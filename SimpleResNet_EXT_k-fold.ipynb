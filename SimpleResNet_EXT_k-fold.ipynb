{
 "cells": [
  {
   "cell_type": "code",
   "execution_count": 1,
   "metadata": {},
   "outputs": [],
   "source": [
    "import numpy as np\n",
    "import pandas as pd\n",
    "\n",
    "import tensorflow as tf\n",
    "from tensorflow import keras\n",
    "from tensorflow.random import set_seed\n",
    "\n",
    "from tqdm import tqdm\n",
    "from contextlib import redirect_stdout\n",
    "import os\n",
    "\n",
    "import utils"
   ]
  },
  {
   "cell_type": "code",
   "execution_count": 2,
   "metadata": {},
   "outputs": [],
   "source": [
    "# Define a model name for repeated use\n",
    "modelName = \"SimpleResNet\"\n",
    "n_folds = 10 # 1 = normal experiment\n",
    "batch_size = 128 # 128 is default across the models"
   ]
  },
  {
   "cell_type": "code",
   "execution_count": 3,
   "metadata": {},
   "outputs": [],
   "source": [
    "#Seeding random state to 13 always, for reproducibility\n",
    "np.random.seed(utils.seed)\n",
    "set_seed(utils.seed)"
   ]
  },
  {
   "cell_type": "code",
   "execution_count": 4,
   "metadata": {},
   "outputs": [
    {
     "name": "stdout",
     "output_type": "stream",
     "text": [
      "gpus: [PhysicalDevice(name='/physical_device:GPU:0', device_type='GPU')]\n",
      "1 Physical GPU, 1 Logical GPUs\n"
     ]
    }
   ],
   "source": [
    "### Used to select GPU 0=first device, 1=second device, etc...\n",
    "os.environ[\"CUDA_VISIBLE_DEVICES\"]=\"0\"\n",
    "\n",
    "gpus = tf.config.experimental.list_physical_devices('GPU')\n",
    "print('gpus:',gpus)\n",
    "if gpus:\n",
    "    try:\n",
    "        tf.config.experimental.set_visible_devices(gpus[0], 'GPU')\n",
    "        tf.config.experimental.set_memory_growth(gpus[0], True)\n",
    "        logical_gpus = tf.config.experimental.list_logical_devices('GPU')\n",
    "        print(len(gpus), \"Physical GPU,\", len(logical_gpus), \"Logical GPUs\")\n",
    "    except RuntimeError as e:\n",
    "        # Virtual devices must be set before GPUs have been initialized\n",
    "        print(e)"
   ]
  },
  {
   "cell_type": "code",
   "execution_count": 5,
   "metadata": {},
   "outputs": [
    {
     "name": "stderr",
     "output_type": "stream",
     "text": [
      "94493it [00:00, 882358.21it/s]\n",
      "94493it [00:00, 1452485.18it/s]\n",
      "31825it [00:00, 836783.63it/s]\n",
      "31825it [00:00, 1478994.88it/s]\n"
     ]
    }
   ],
   "source": [
    "dataset = utils.makeDataset(pathFromCwdToDataRoot=\"Data\")"
   ]
  },
  {
   "cell_type": "code",
   "execution_count": 6,
   "metadata": {},
   "outputs": [
    {
     "name": "stderr",
     "output_type": "stream",
     "text": [
      "C:\\Users\\music\\anaconda3\\envs\\csc790\\lib\\site-packages\\keras_preprocessing\\image\\image_data_generator.py:356: UserWarning: This ImageDataGenerator specifies `samplewise_std_normalization`, which overrides setting of `samplewise_center`.\n",
      "  warnings.warn('This ImageDataGenerator specifies '\n"
     ]
    },
    {
     "name": "stdout",
     "output_type": "stream",
     "text": [
      "Found 102315 non-validated image filenames belonging to 2 classes.\n"
     ]
    },
    {
     "name": "stderr",
     "output_type": "stream",
     "text": [
      "C:\\Users\\music\\anaconda3\\envs\\csc790\\lib\\site-packages\\keras_preprocessing\\image\\image_data_generator.py:356: UserWarning: This ImageDataGenerator specifies `samplewise_std_normalization`, which overrides setting of `samplewise_center`.\n",
      "  warnings.warn('This ImageDataGenerator specifies '\n",
      "C:\\Users\\music\\anaconda3\\envs\\csc790\\lib\\site-packages\\keras_preprocessing\\image\\image_data_generator.py:356: UserWarning: This ImageDataGenerator specifies `samplewise_std_normalization`, which overrides setting of `samplewise_center`.\n",
      "  warnings.warn('This ImageDataGenerator specifies '\n"
     ]
    },
    {
     "name": "stdout",
     "output_type": "stream",
     "text": [
      "Found 12633 non-validated image filenames belonging to 2 classes.\n",
      "Found 11370 non-validated image filenames belonging to 2 classes.\n",
      "\n",
      "Found 102315 non-validated image filenames belonging to 2 classes.\n"
     ]
    },
    {
     "name": "stderr",
     "output_type": "stream",
     "text": [
      "C:\\Users\\music\\anaconda3\\envs\\csc790\\lib\\site-packages\\keras_preprocessing\\image\\image_data_generator.py:356: UserWarning: This ImageDataGenerator specifies `samplewise_std_normalization`, which overrides setting of `samplewise_center`.\n",
      "  warnings.warn('This ImageDataGenerator specifies '\n",
      "C:\\Users\\music\\anaconda3\\envs\\csc790\\lib\\site-packages\\keras_preprocessing\\image\\image_data_generator.py:356: UserWarning: This ImageDataGenerator specifies `samplewise_std_normalization`, which overrides setting of `samplewise_center`.\n",
      "  warnings.warn('This ImageDataGenerator specifies '\n"
     ]
    },
    {
     "name": "stdout",
     "output_type": "stream",
     "text": [
      "Found 12633 non-validated image filenames belonging to 2 classes.\n",
      "Found 11370 non-validated image filenames belonging to 2 classes.\n",
      "\n",
      "Found 102315 non-validated image filenames belonging to 2 classes.\n",
      "Found 12633 non-validated image filenames belonging to 2 classes.\n",
      "Found 11370 non-validated image filenames belonging to 2 classes.\n",
      "\n"
     ]
    },
    {
     "name": "stderr",
     "output_type": "stream",
     "text": [
      "C:\\Users\\music\\anaconda3\\envs\\csc790\\lib\\site-packages\\keras_preprocessing\\image\\image_data_generator.py:356: UserWarning: This ImageDataGenerator specifies `samplewise_std_normalization`, which overrides setting of `samplewise_center`.\n",
      "  warnings.warn('This ImageDataGenerator specifies '\n",
      "C:\\Users\\music\\anaconda3\\envs\\csc790\\lib\\site-packages\\keras_preprocessing\\image\\image_data_generator.py:356: UserWarning: This ImageDataGenerator specifies `samplewise_std_normalization`, which overrides setting of `samplewise_center`.\n",
      "  warnings.warn('This ImageDataGenerator specifies '\n"
     ]
    },
    {
     "name": "stdout",
     "output_type": "stream",
     "text": [
      "Found 102315 non-validated image filenames belonging to 2 classes.\n"
     ]
    },
    {
     "name": "stderr",
     "output_type": "stream",
     "text": [
      "C:\\Users\\music\\anaconda3\\envs\\csc790\\lib\\site-packages\\keras_preprocessing\\image\\image_data_generator.py:356: UserWarning: This ImageDataGenerator specifies `samplewise_std_normalization`, which overrides setting of `samplewise_center`.\n",
      "  warnings.warn('This ImageDataGenerator specifies '\n",
      "C:\\Users\\music\\anaconda3\\envs\\csc790\\lib\\site-packages\\keras_preprocessing\\image\\image_data_generator.py:356: UserWarning: This ImageDataGenerator specifies `samplewise_std_normalization`, which overrides setting of `samplewise_center`.\n",
      "  warnings.warn('This ImageDataGenerator specifies '\n"
     ]
    },
    {
     "name": "stdout",
     "output_type": "stream",
     "text": [
      "Found 12633 non-validated image filenames belonging to 2 classes.\n",
      "Found 11370 non-validated image filenames belonging to 2 classes.\n",
      "\n",
      "Found 102315 non-validated image filenames belonging to 2 classes.\n"
     ]
    },
    {
     "name": "stderr",
     "output_type": "stream",
     "text": [
      "C:\\Users\\music\\anaconda3\\envs\\csc790\\lib\\site-packages\\keras_preprocessing\\image\\image_data_generator.py:356: UserWarning: This ImageDataGenerator specifies `samplewise_std_normalization`, which overrides setting of `samplewise_center`.\n",
      "  warnings.warn('This ImageDataGenerator specifies '\n",
      "C:\\Users\\music\\anaconda3\\envs\\csc790\\lib\\site-packages\\keras_preprocessing\\image\\image_data_generator.py:356: UserWarning: This ImageDataGenerator specifies `samplewise_std_normalization`, which overrides setting of `samplewise_center`.\n",
      "  warnings.warn('This ImageDataGenerator specifies '\n"
     ]
    },
    {
     "name": "stdout",
     "output_type": "stream",
     "text": [
      "Found 12633 non-validated image filenames belonging to 2 classes.\n",
      "Found 11370 non-validated image filenames belonging to 2 classes.\n",
      "\n",
      "Found 102315 non-validated image filenames belonging to 2 classes.\n"
     ]
    },
    {
     "name": "stderr",
     "output_type": "stream",
     "text": [
      "C:\\Users\\music\\anaconda3\\envs\\csc790\\lib\\site-packages\\keras_preprocessing\\image\\image_data_generator.py:356: UserWarning: This ImageDataGenerator specifies `samplewise_std_normalization`, which overrides setting of `samplewise_center`.\n",
      "  warnings.warn('This ImageDataGenerator specifies '\n",
      "C:\\Users\\music\\anaconda3\\envs\\csc790\\lib\\site-packages\\keras_preprocessing\\image\\image_data_generator.py:356: UserWarning: This ImageDataGenerator specifies `samplewise_std_normalization`, which overrides setting of `samplewise_center`.\n",
      "  warnings.warn('This ImageDataGenerator specifies '\n"
     ]
    },
    {
     "name": "stdout",
     "output_type": "stream",
     "text": [
      "Found 12633 non-validated image filenames belonging to 2 classes.\n",
      "Found 11370 non-validated image filenames belonging to 2 classes.\n",
      "\n",
      "Found 102315 non-validated image filenames belonging to 2 classes.\n"
     ]
    },
    {
     "name": "stderr",
     "output_type": "stream",
     "text": [
      "C:\\Users\\music\\anaconda3\\envs\\csc790\\lib\\site-packages\\keras_preprocessing\\image\\image_data_generator.py:356: UserWarning: This ImageDataGenerator specifies `samplewise_std_normalization`, which overrides setting of `samplewise_center`.\n",
      "  warnings.warn('This ImageDataGenerator specifies '\n",
      "C:\\Users\\music\\anaconda3\\envs\\csc790\\lib\\site-packages\\keras_preprocessing\\image\\image_data_generator.py:356: UserWarning: This ImageDataGenerator specifies `samplewise_std_normalization`, which overrides setting of `samplewise_center`.\n",
      "  warnings.warn('This ImageDataGenerator specifies '\n"
     ]
    },
    {
     "name": "stdout",
     "output_type": "stream",
     "text": [
      "Found 12633 non-validated image filenames belonging to 2 classes.\n",
      "Found 11370 non-validated image filenames belonging to 2 classes.\n",
      "\n",
      "Found 102315 non-validated image filenames belonging to 2 classes.\n"
     ]
    },
    {
     "name": "stderr",
     "output_type": "stream",
     "text": [
      "C:\\Users\\music\\anaconda3\\envs\\csc790\\lib\\site-packages\\keras_preprocessing\\image\\image_data_generator.py:356: UserWarning: This ImageDataGenerator specifies `samplewise_std_normalization`, which overrides setting of `samplewise_center`.\n",
      "  warnings.warn('This ImageDataGenerator specifies '\n",
      "C:\\Users\\music\\anaconda3\\envs\\csc790\\lib\\site-packages\\keras_preprocessing\\image\\image_data_generator.py:356: UserWarning: This ImageDataGenerator specifies `samplewise_std_normalization`, which overrides setting of `samplewise_center`.\n",
      "  warnings.warn('This ImageDataGenerator specifies '\n"
     ]
    },
    {
     "name": "stdout",
     "output_type": "stream",
     "text": [
      "Found 12633 non-validated image filenames belonging to 2 classes.\n",
      "Found 11370 non-validated image filenames belonging to 2 classes.\n",
      "\n",
      "Found 102315 non-validated image filenames belonging to 2 classes.\n"
     ]
    },
    {
     "name": "stderr",
     "output_type": "stream",
     "text": [
      "C:\\Users\\music\\anaconda3\\envs\\csc790\\lib\\site-packages\\keras_preprocessing\\image\\image_data_generator.py:356: UserWarning: This ImageDataGenerator specifies `samplewise_std_normalization`, which overrides setting of `samplewise_center`.\n",
      "  warnings.warn('This ImageDataGenerator specifies '\n",
      "C:\\Users\\music\\anaconda3\\envs\\csc790\\lib\\site-packages\\keras_preprocessing\\image\\image_data_generator.py:356: UserWarning: This ImageDataGenerator specifies `samplewise_std_normalization`, which overrides setting of `samplewise_center`.\n",
      "  warnings.warn('This ImageDataGenerator specifies '\n"
     ]
    },
    {
     "name": "stdout",
     "output_type": "stream",
     "text": [
      "Found 12633 non-validated image filenames belonging to 2 classes.\n",
      "Found 11370 non-validated image filenames belonging to 2 classes.\n",
      "\n",
      "Found 102315 non-validated image filenames belonging to 2 classes.\n",
      "Found 12633 non-validated image filenames belonging to 2 classes.\n",
      "Found 11370 non-validated image filenames belonging to 2 classes.\n",
      "\n"
     ]
    },
    {
     "name": "stderr",
     "output_type": "stream",
     "text": [
      "C:\\Users\\music\\anaconda3\\envs\\csc790\\lib\\site-packages\\keras_preprocessing\\image\\image_data_generator.py:356: UserWarning: This ImageDataGenerator specifies `samplewise_std_normalization`, which overrides setting of `samplewise_center`.\n",
      "  warnings.warn('This ImageDataGenerator specifies '\n"
     ]
    }
   ],
   "source": [
    "kFCV_sets, weights_dict = utils.makeFolds(dataset=dataset, n_folds=n_folds, batch_size=batch_size)"
   ]
  },
  {
   "cell_type": "code",
   "execution_count": 7,
   "metadata": {},
   "outputs": [
    {
     "name": "stdout",
     "output_type": "stream",
     "text": [
      "{0: 0.9585261658953365, 1: 1.045225155279503}\n"
     ]
    }
   ],
   "source": [
    "print(weights_dict)"
   ]
  },
  {
   "cell_type": "code",
   "execution_count": 8,
   "metadata": {},
   "outputs": [
    {
     "name": "stdout",
     "output_type": "stream",
     "text": [
      "Fold 1 of 10\n",
      "Epoch 1/100\n",
      "  2/800 [..............................] - ETA: 56s - loss: 0.7061 - accuracy: 0.5664WARNING:tensorflow:Callbacks method `on_train_batch_end` is slow compared to the batch time (batch time: 0.0445s vs `on_train_batch_end` time: 0.0966s). Check your callbacks.\n",
      "800/800 [==============================] - 119s 148ms/step - loss: 0.5674 - accuracy: 0.8545 - val_loss: 0.5433 - val_accuracy: 0.9242\n",
      "Epoch 2/100\n",
      "800/800 [==============================] - 118s 147ms/step - loss: 0.5351 - accuracy: 0.9283 - val_loss: 0.5375 - val_accuracy: 0.9369\n",
      "Epoch 3/100\n",
      "800/800 [==============================] - 117s 147ms/step - loss: 0.5310 - accuracy: 0.9383 - val_loss: 0.5341 - val_accuracy: 0.9481\n",
      "Epoch 4/100\n",
      "800/800 [==============================] - ETA: 0s - loss: 0.5309 - accuracy: 0.9388Restoring model weights from the end of the best epoch.\n",
      "800/800 [==============================] - 118s 147ms/step - loss: 0.5309 - accuracy: 0.9388 - val_loss: 0.5350 - val_accuracy: 0.9529\n",
      "Epoch 00004: early stopping\n",
      "99/99 [==============================] - 6s 60ms/step - loss: 0.5471 - accuracy: 0.9140\n",
      "WARNING:tensorflow:From C:\\Users\\music\\anaconda3\\envs\\csc790\\lib\\site-packages\\tensorflow\\python\\training\\tracking\\tracking.py:111: Model.state_updates (from tensorflow.python.keras.engine.training) is deprecated and will be removed in a future version.\n",
      "Instructions for updating:\n",
      "This property should not be used in TensorFlow 2.0, as updates are applied automatically.\n",
      "WARNING:tensorflow:From C:\\Users\\music\\anaconda3\\envs\\csc790\\lib\\site-packages\\tensorflow\\python\\training\\tracking\\tracking.py:111: Layer.updates (from tensorflow.python.keras.engine.base_layer) is deprecated and will be removed in a future version.\n",
      "Instructions for updating:\n",
      "This property should not be used in TensorFlow 2.0, as updates are applied automatically.\n",
      "INFO:tensorflow:Assets written to: Models/SimpleResNet\\assets\n",
      "Fold 2 of 10\n",
      "Epoch 1/100\n",
      "  2/800 [..............................] - ETA: 1:02 - loss: 0.6984 - accuracy: 0.4844WARNING:tensorflow:Callbacks method `on_train_batch_end` is slow compared to the batch time (batch time: 0.0520s vs `on_train_batch_end` time: 0.1036s). Check your callbacks.\n",
      "800/800 [==============================] - 121s 151ms/step - loss: 0.5734 - accuracy: 0.8385 - val_loss: 0.5820 - val_accuracy: 0.8208\n",
      "Epoch 2/100\n",
      "800/800 [==============================] - 119s 149ms/step - loss: 0.5480 - accuracy: 0.9000 - val_loss: 0.5438 - val_accuracy: 0.9218\n",
      "Epoch 3/100\n",
      "800/800 [==============================] - 119s 149ms/step - loss: 0.5412 - accuracy: 0.9160 - val_loss: 0.5379 - val_accuracy: 0.9395\n",
      "Epoch 4/100\n",
      "800/800 [==============================] - 119s 149ms/step - loss: 0.5312 - accuracy: 0.9391 - val_loss: 0.5369 - val_accuracy: 0.9529\n",
      "Epoch 5/100\n",
      "800/800 [==============================] - ETA: 0s - loss: 0.5271 - accuracy: 0.9479Restoring model weights from the end of the best epoch.\n",
      "800/800 [==============================] - 119s 148ms/step - loss: 0.5271 - accuracy: 0.9479 - val_loss: 0.5357 - val_accuracy: 0.9397\n",
      "Epoch 00005: early stopping\n",
      "99/99 [==============================] - 5s 51ms/step - loss: 0.5445 - accuracy: 0.9210\n",
      "Fold 3 of 10\n",
      "Epoch 1/100\n",
      "  2/800 [..............................] - ETA: 57s - loss: 0.7390 - accuracy: 0.5547WARNING:tensorflow:Callbacks method `on_train_batch_end` is slow compared to the batch time (batch time: 0.0480s vs `on_train_batch_end` time: 0.0971s). Check your callbacks.\n",
      "800/800 [==============================] - 119s 149ms/step - loss: 0.5720 - accuracy: 0.8453 - val_loss: 0.5431 - val_accuracy: 0.9262\n",
      "Epoch 2/100\n",
      "800/800 [==============================] - 119s 149ms/step - loss: 0.5338 - accuracy: 0.9323 - val_loss: 0.5394 - val_accuracy: 0.9488\n",
      "Epoch 3/100\n",
      "800/800 [==============================] - 119s 149ms/step - loss: 0.5255 - accuracy: 0.9513 - val_loss: 0.5310 - val_accuracy: 0.9582\n",
      "Epoch 4/100\n",
      "800/800 [==============================] - 119s 149ms/step - loss: 0.5242 - accuracy: 0.9541 - val_loss: 0.5338 - val_accuracy: 0.9426\n",
      "Epoch 5/100\n",
      "800/800 [==============================] - 119s 149ms/step - loss: 0.5222 - accuracy: 0.9582 - val_loss: 0.5278 - val_accuracy: 0.9670\n",
      "Epoch 6/100\n",
      "800/800 [==============================] - ETA: 0s - loss: 0.5211 - accuracy: 0.9610Restoring model weights from the end of the best epoch.\n",
      "800/800 [==============================] - 119s 149ms/step - loss: 0.5211 - accuracy: 0.9610 - val_loss: 0.5260 - val_accuracy: 0.9659\n",
      "Epoch 00006: early stopping\n",
      "99/99 [==============================] - 5s 51ms/step - loss: 0.5325 - accuracy: 0.9561\n",
      "Fold 4 of 10\n",
      "Epoch 1/100\n",
      "  2/800 [..............................] - ETA: 58s - loss: 0.6999 - accuracy: 0.4414WARNING:tensorflow:Callbacks method `on_train_batch_end` is slow compared to the batch time (batch time: 0.0505s vs `on_train_batch_end` time: 0.0966s). Check your callbacks.\n",
      "800/800 [==============================] - 120s 150ms/step - loss: 0.5615 - accuracy: 0.8681 - val_loss: 0.5440 - val_accuracy: 0.9383\n",
      "Epoch 2/100\n",
      "800/800 [==============================] - 119s 149ms/step - loss: 0.5366 - accuracy: 0.9263 - val_loss: 0.5426 - val_accuracy: 0.9429\n",
      "Epoch 3/100\n",
      "800/800 [==============================] - 119s 149ms/step - loss: 0.5287 - accuracy: 0.9447 - val_loss: 0.5280 - val_accuracy: 0.9639\n",
      "Epoch 4/100\n",
      "800/800 [==============================] - 119s 149ms/step - loss: 0.5303 - accuracy: 0.9406 - val_loss: 0.5372 - val_accuracy: 0.9525\n",
      "Epoch 5/100\n",
      "800/800 [==============================] - 119s 149ms/step - loss: 0.5260 - accuracy: 0.9510 - val_loss: 0.5380 - val_accuracy: 0.9330\n",
      "Epoch 6/100\n",
      "800/800 [==============================] - ETA: 0s - loss: 0.5240 - accuracy: 0.9551Restoring model weights from the end of the best epoch.\n",
      "800/800 [==============================] - 119s 149ms/step - loss: 0.5240 - accuracy: 0.9551 - val_loss: 0.5273 - val_accuracy: 0.9653\n",
      "Epoch 00006: early stopping\n",
      "99/99 [==============================] - 5s 52ms/step - loss: 0.5296 - accuracy: 0.9617\n",
      "Fold 5 of 10\n",
      "Epoch 1/100\n",
      "  2/800 [..............................] - ETA: 58s - loss: 0.7288 - accuracy: 0.5508WARNING:tensorflow:Callbacks method `on_train_batch_end` is slow compared to the batch time (batch time: 0.0490s vs `on_train_batch_end` time: 0.0976s). Check your callbacks.\n",
      "800/800 [==============================] - 120s 150ms/step - loss: 0.5610 - accuracy: 0.8691 - val_loss: 0.5427 - val_accuracy: 0.9251\n",
      "Epoch 2/100\n",
      "800/800 [==============================] - 119s 149ms/step - loss: 0.5353 - accuracy: 0.9308 - val_loss: 0.5336 - val_accuracy: 0.9539\n",
      "Epoch 3/100\n",
      "800/800 [==============================] - 119s 149ms/step - loss: 0.5326 - accuracy: 0.9371 - val_loss: 0.5441 - val_accuracy: 0.9180\n",
      "Epoch 4/100\n",
      "800/800 [==============================] - ETA: 0s - loss: 0.5937 - accuracy: 0.7993Restoring model weights from the end of the best epoch.\n",
      "800/800 [==============================] - 120s 150ms/step - loss: 0.5937 - accuracy: 0.7993 - val_loss: 0.6033 - val_accuracy: 0.7664\n",
      "Epoch 00004: early stopping\n",
      "99/99 [==============================] - 5s 54ms/step - loss: 0.5453 - accuracy: 0.9171\n",
      "Fold 6 of 10\n",
      "Epoch 1/100\n",
      "  2/800 [..............................] - ETA: 59s - loss: 0.7069 - accuracy: 0.5000WARNING:tensorflow:Callbacks method `on_train_batch_end` is slow compared to the batch time (batch time: 0.0510s vs `on_train_batch_end` time: 0.0986s). Check your callbacks.\n",
      "800/800 [==============================] - 119s 149ms/step - loss: 0.6176 - accuracy: 0.7305 - val_loss: 0.6931 - val_accuracy: 0.5216\n",
      "Epoch 2/100\n",
      "800/800 [==============================] - 119s 149ms/step - loss: 0.6930 - accuracy: 0.5219 - val_loss: 0.6931 - val_accuracy: 0.5216\n",
      "Epoch 3/100\n",
      "800/800 [==============================] - 119s 149ms/step - loss: 0.6930 - accuracy: 0.5219 - val_loss: 0.6931 - val_accuracy: 0.5216\n",
      "Epoch 4/100\n",
      "800/800 [==============================] - ETA: 0s - loss: 0.6930 - accuracy: 0.5219Restoring model weights from the end of the best epoch.\n",
      "800/800 [==============================] - 119s 149ms/step - loss: 0.6930 - accuracy: 0.5219 - val_loss: 0.6931 - val_accuracy: 0.5216\n",
      "Epoch 00004: early stopping\n",
      "99/99 [==============================] - 5s 52ms/step - loss: 0.6931 - accuracy: 0.5216\n",
      "Fold 7 of 10\n",
      "Epoch 1/100\n",
      "  2/800 [..............................] - ETA: 57s - loss: 0.7279 - accuracy: 0.4766WARNING:tensorflow:Callbacks method `on_train_batch_end` is slow compared to the batch time (batch time: 0.0490s vs `on_train_batch_end` time: 0.0961s). Check your callbacks.\n",
      "800/800 [==============================] - 120s 150ms/step - loss: 0.5691 - accuracy: 0.8499 - val_loss: 0.5495 - val_accuracy: 0.9322\n",
      "Epoch 2/100\n",
      "800/800 [==============================] - 120s 150ms/step - loss: 0.5368 - accuracy: 0.9261 - val_loss: 0.5374 - val_accuracy: 0.9374\n",
      "Epoch 3/100\n",
      "800/800 [==============================] - 120s 149ms/step - loss: 0.5277 - accuracy: 0.9459 - val_loss: 0.5300 - val_accuracy: 0.9610\n",
      "Epoch 4/100\n",
      "800/800 [==============================] - 120s 149ms/step - loss: 0.5263 - accuracy: 0.9494 - val_loss: 0.5279 - val_accuracy: 0.9630\n",
      "Epoch 5/100\n",
      "800/800 [==============================] - ETA: 0s - loss: 0.5269 - accuracy: 0.9481Restoring model weights from the end of the best epoch.\n",
      "800/800 [==============================] - 120s 149ms/step - loss: 0.5269 - accuracy: 0.9481 - val_loss: 0.5335 - val_accuracy: 0.9507\n",
      "Epoch 00005: early stopping\n",
      "99/99 [==============================] - 6s 57ms/step - loss: 0.5379 - accuracy: 0.9360\n",
      "Fold 8 of 10\n",
      "Epoch 1/100\n",
      "  2/800 [..............................] - ETA: 58s - loss: 0.7000 - accuracy: 0.4375WARNING:tensorflow:Callbacks method `on_train_batch_end` is slow compared to the batch time (batch time: 0.0495s vs `on_train_batch_end` time: 0.0956s). Check your callbacks.\n",
      "800/800 [==============================] - 121s 152ms/step - loss: 0.5756 - accuracy: 0.8352 - val_loss: 0.5471 - val_accuracy: 0.9120\n",
      "Epoch 2/100\n",
      "800/800 [==============================] - 121s 151ms/step - loss: 0.5427 - accuracy: 0.9126 - val_loss: 0.6046 - val_accuracy: 0.7544\n",
      "Epoch 3/100\n",
      "800/800 [==============================] - 119s 149ms/step - loss: 0.6561 - accuracy: 0.6213 - val_loss: 0.6931 - val_accuracy: 0.5216\n",
      "Epoch 4/100\n",
      "800/800 [==============================] - ETA: 0s - loss: 0.6931 - accuracy: 0.5216Restoring model weights from the end of the best epoch.\n",
      "800/800 [==============================] - 119s 149ms/step - loss: 0.6931 - accuracy: 0.5216 - val_loss: 0.6931 - val_accuracy: 0.5216\n",
      "Epoch 00004: early stopping\n",
      "99/99 [==============================] - 5s 52ms/step - loss: 0.5517 - accuracy: 0.8998\n",
      "Fold 9 of 10\n",
      "Epoch 1/100\n",
      "  2/800 [..............................] - ETA: 58s - loss: 0.7138 - accuracy: 0.4648WARNING:tensorflow:Callbacks method `on_train_batch_end` is slow compared to the batch time (batch time: 0.0505s vs `on_train_batch_end` time: 0.0971s). Check your callbacks.\n",
      "800/800 [==============================] - 120s 151ms/step - loss: 0.5718 - accuracy: 0.8454 - val_loss: 0.6162 - val_accuracy: 0.7258\n",
      "Epoch 2/100\n",
      "800/800 [==============================] - 120s 150ms/step - loss: 0.6575 - accuracy: 0.7117 - val_loss: 0.8349 - val_accuracy: 0.4784\n",
      "Epoch 3/100\n",
      "800/800 [==============================] - 119s 149ms/step - loss: 0.8133 - accuracy: 0.4784 - val_loss: 0.8349 - val_accuracy: 0.4784\n",
      "Epoch 4/100\n",
      "800/800 [==============================] - ETA: 0s - loss: 0.8133 - accuracy: 0.4784Restoring model weights from the end of the best epoch.\n",
      "800/800 [==============================] - 119s 149ms/step - loss: 0.8133 - accuracy: 0.4784 - val_loss: 0.8349 - val_accuracy: 0.4784\n",
      "Epoch 00004: early stopping\n",
      "99/99 [==============================] - 5s 53ms/step - loss: 0.6167 - accuracy: 0.7246\n",
      "Fold 10 of 10\n",
      "Epoch 1/100\n",
      "  2/800 [..............................] - ETA: 59s - loss: 0.7033 - accuracy: 0.5000WARNING:tensorflow:Callbacks method `on_train_batch_end` is slow compared to the batch time (batch time: 0.0510s vs `on_train_batch_end` time: 0.0976s). Check your callbacks.\n",
      "800/800 [==============================] - 120s 150ms/step - loss: 0.5706 - accuracy: 0.8460 - val_loss: 0.5726 - val_accuracy: 0.8391\n",
      "Epoch 2/100\n",
      "800/800 [==============================] - 120s 150ms/step - loss: 0.5378 - accuracy: 0.9238 - val_loss: 0.5336 - val_accuracy: 0.9498\n",
      "Epoch 3/100\n",
      "800/800 [==============================] - 120s 149ms/step - loss: 0.5283 - accuracy: 0.9445 - val_loss: 0.5323 - val_accuracy: 0.9526\n",
      "Epoch 4/100\n",
      "800/800 [==============================] - 119s 149ms/step - loss: 0.5288 - accuracy: 0.9437 - val_loss: 0.5323 - val_accuracy: 0.9513\n",
      "Epoch 5/100\n",
      "800/800 [==============================] - ETA: 0s - loss: 0.5284 - accuracy: 0.9446Restoring model weights from the end of the best epoch.\n",
      "800/800 [==============================] - 119s 149ms/step - loss: 0.5284 - accuracy: 0.9446 - val_loss: 0.5338 - val_accuracy: 0.9441\n",
      "Epoch 00005: early stopping\n",
      "99/99 [==============================] - 5s 52ms/step - loss: 0.5362 - accuracy: 0.9428\n"
     ]
    }
   ],
   "source": [
    "k_results=pd.DataFrame(columns = ['Fold', 'Loss', 'Accuracy'])\n",
    "\n",
    "for i, k in enumerate(kFCV_sets):\n",
    "    print(\"Fold\", i+1, \"of\", len(kFCV_sets))\n",
    "\n",
    "    train_generator, test_generator, val_generator = k\n",
    "\n",
    "    #Build Model\n",
    "    model = utils.makeModel(inputShape=(150, 150, 3), modelName=modelName)\n",
    "    opt = tf.optimizers.Adam()\n",
    "    model.compile(\n",
    "        optimizer = opt,\n",
    "        loss = keras.losses.BinaryCrossentropy(from_logits = True),\n",
    "        metrics = [\"accuracy\"]\n",
    "    )\n",
    "\n",
    "    #Fit data  \n",
    "    model.fit(\n",
    "        train_generator,\n",
    "        validation_data=val_generator,\n",
    "        callbacks = utils.callbacks,\n",
    "        epochs = 100,\n",
    "        class_weight = weights_dict,\n",
    "        max_queue_size = 10,\n",
    "        workers = os.cpu_count(),\n",
    "    )\n",
    "\n",
    "    #Test accuracy\n",
    "    results = model.evaluate(\n",
    "        test_generator,\n",
    "        max_queue_size = 10,\n",
    "        workers = os.cpu_count(),\n",
    "    )\n",
    "\n",
    "    k_results = k_results.append({'Fold':i+1, 'Loss':results[0], 'Accuracy':results[1]}, ignore_index=True)\n",
    "    \n",
    "    if i == 0:\n",
    "        # Write the summary to a file\n",
    "        with open(f'Results/{modelName}Summary.txt', 'w') as f:\n",
    "            with redirect_stdout(f):\n",
    "                print(model.summary())\n",
    "        #Save the model\n",
    "        model.save(f'Models/{modelName}')\n",
    "        \n",
    "    keras.backend.clear_session() \n",
    "\n",
    "k_results = k_results.append({'Fold':\"Avg\", 'Loss':np.average(k_results['Loss']), 'Accuracy':np.average(k_results['Accuracy'])}, ignore_index=True)"
   ]
  },
  {
   "cell_type": "code",
   "execution_count": 9,
   "metadata": {},
   "outputs": [],
   "source": [
    "if n_folds != 1:\n",
    "    k_results.to_csv(f'Results/k-fcv_{modelName}.csv')"
   ]
  }
 ],
 "metadata": {
  "kernelspec": {
   "display_name": "csc790",
   "language": "python",
   "name": "csc790"
  },
  "language_info": {
   "codemirror_mode": {
    "name": "ipython",
    "version": 3
   },
   "file_extension": ".py",
   "mimetype": "text/x-python",
   "name": "python",
   "nbconvert_exporter": "python",
   "pygments_lexer": "ipython3",
   "version": "3.8.5"
  }
 },
 "nbformat": 4,
 "nbformat_minor": 4
}
