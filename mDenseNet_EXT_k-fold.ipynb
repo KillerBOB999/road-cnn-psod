{
 "cells": [
  {
   "cell_type": "code",
   "execution_count": 1,
   "metadata": {},
   "outputs": [],
   "source": [
    "import numpy as np\n",
    "import pandas as pd\n",
    "\n",
    "import tensorflow as tf\n",
    "from tensorflow import keras\n",
    "from tensorflow.random import set_seed\n",
    "\n",
    "from tqdm import tqdm\n",
    "from contextlib import redirect_stdout\n",
    "import os\n",
    "\n",
    "import utils"
   ]
  },
  {
   "cell_type": "code",
   "execution_count": 2,
   "metadata": {},
   "outputs": [],
   "source": [
    "# Define a model name for repeated use\n",
    "modelName = \"mDenseNet\"\n",
    "n_folds = 10 # 1 = normal experiment\n",
    "batch_size = 128 # 128 is default across the models"
   ]
  },
  {
   "cell_type": "code",
   "execution_count": 3,
   "metadata": {},
   "outputs": [],
   "source": [
    "#Seeding random state to 13 always, for reproducibility\n",
    "np.random.seed(utils.seed)\n",
    "set_seed(utils.seed)"
   ]
  },
  {
   "cell_type": "code",
   "execution_count": 4,
   "metadata": {},
   "outputs": [
    {
     "name": "stdout",
     "output_type": "stream",
     "text": [
      "gpus: [PhysicalDevice(name='/physical_device:GPU:0', device_type='GPU')]\n",
      "1 Physical GPU, 1 Logical GPUs\n"
     ]
    }
   ],
   "source": [
    "### Used to select GPU 0=first device, 1=second device, etc...\n",
    "os.environ[\"CUDA_VISIBLE_DEVICES\"]=\"0\"\n",
    "\n",
    "gpus = tf.config.experimental.list_physical_devices('GPU')\n",
    "print('gpus:',gpus)\n",
    "if gpus:\n",
    "    try:\n",
    "        tf.config.experimental.set_visible_devices(gpus[0], 'GPU')\n",
    "        tf.config.experimental.set_memory_growth(gpus[0], True)\n",
    "        logical_gpus = tf.config.experimental.list_logical_devices('GPU')\n",
    "        print(len(gpus), \"Physical GPU,\", len(logical_gpus), \"Logical GPUs\")\n",
    "    except RuntimeError as e:\n",
    "        # Virtual devices must be set before GPUs have been initialized\n",
    "        print(e)"
   ]
  },
  {
   "cell_type": "code",
   "execution_count": 5,
   "metadata": {},
   "outputs": [
    {
     "name": "stderr",
     "output_type": "stream",
     "text": [
      "94493it [00:00, 878246.33it/s]\n",
      "94493it [00:00, 1475208.13it/s]\n",
      "31825it [00:00, 871184.27it/s]\n",
      "31825it [00:00, 1551108.27it/s]\n"
     ]
    }
   ],
   "source": [
    "dataset = utils.makeDataset(pathFromCwdToDataRoot=\"Data\")"
   ]
  },
  {
   "cell_type": "code",
   "execution_count": 6,
   "metadata": {},
   "outputs": [
    {
     "name": "stderr",
     "output_type": "stream",
     "text": [
      "C:\\Users\\music\\anaconda3\\envs\\csc790\\lib\\site-packages\\keras_preprocessing\\image\\image_data_generator.py:356: UserWarning: This ImageDataGenerator specifies `samplewise_std_normalization`, which overrides setting of `samplewise_center`.\n",
      "  warnings.warn('This ImageDataGenerator specifies '\n"
     ]
    },
    {
     "name": "stdout",
     "output_type": "stream",
     "text": [
      "Found 102315 non-validated image filenames belonging to 2 classes.\n"
     ]
    },
    {
     "name": "stderr",
     "output_type": "stream",
     "text": [
      "C:\\Users\\music\\anaconda3\\envs\\csc790\\lib\\site-packages\\keras_preprocessing\\image\\image_data_generator.py:356: UserWarning: This ImageDataGenerator specifies `samplewise_std_normalization`, which overrides setting of `samplewise_center`.\n",
      "  warnings.warn('This ImageDataGenerator specifies '\n",
      "C:\\Users\\music\\anaconda3\\envs\\csc790\\lib\\site-packages\\keras_preprocessing\\image\\image_data_generator.py:356: UserWarning: This ImageDataGenerator specifies `samplewise_std_normalization`, which overrides setting of `samplewise_center`.\n",
      "  warnings.warn('This ImageDataGenerator specifies '\n"
     ]
    },
    {
     "name": "stdout",
     "output_type": "stream",
     "text": [
      "Found 12633 non-validated image filenames belonging to 2 classes.\n",
      "Found 11370 non-validated image filenames belonging to 2 classes.\n",
      "\n",
      "Found 102315 non-validated image filenames belonging to 2 classes.\n"
     ]
    },
    {
     "name": "stderr",
     "output_type": "stream",
     "text": [
      "C:\\Users\\music\\anaconda3\\envs\\csc790\\lib\\site-packages\\keras_preprocessing\\image\\image_data_generator.py:356: UserWarning: This ImageDataGenerator specifies `samplewise_std_normalization`, which overrides setting of `samplewise_center`.\n",
      "  warnings.warn('This ImageDataGenerator specifies '\n",
      "C:\\Users\\music\\anaconda3\\envs\\csc790\\lib\\site-packages\\keras_preprocessing\\image\\image_data_generator.py:356: UserWarning: This ImageDataGenerator specifies `samplewise_std_normalization`, which overrides setting of `samplewise_center`.\n",
      "  warnings.warn('This ImageDataGenerator specifies '\n"
     ]
    },
    {
     "name": "stdout",
     "output_type": "stream",
     "text": [
      "Found 12633 non-validated image filenames belonging to 2 classes.\n",
      "Found 11370 non-validated image filenames belonging to 2 classes.\n",
      "\n",
      "Found 102315 non-validated image filenames belonging to 2 classes.\n"
     ]
    },
    {
     "name": "stderr",
     "output_type": "stream",
     "text": [
      "C:\\Users\\music\\anaconda3\\envs\\csc790\\lib\\site-packages\\keras_preprocessing\\image\\image_data_generator.py:356: UserWarning: This ImageDataGenerator specifies `samplewise_std_normalization`, which overrides setting of `samplewise_center`.\n",
      "  warnings.warn('This ImageDataGenerator specifies '\n",
      "C:\\Users\\music\\anaconda3\\envs\\csc790\\lib\\site-packages\\keras_preprocessing\\image\\image_data_generator.py:356: UserWarning: This ImageDataGenerator specifies `samplewise_std_normalization`, which overrides setting of `samplewise_center`.\n",
      "  warnings.warn('This ImageDataGenerator specifies '\n"
     ]
    },
    {
     "name": "stdout",
     "output_type": "stream",
     "text": [
      "Found 12633 non-validated image filenames belonging to 2 classes.\n",
      "Found 11370 non-validated image filenames belonging to 2 classes.\n",
      "\n",
      "Found 102315 non-validated image filenames belonging to 2 classes.\n"
     ]
    },
    {
     "name": "stderr",
     "output_type": "stream",
     "text": [
      "C:\\Users\\music\\anaconda3\\envs\\csc790\\lib\\site-packages\\keras_preprocessing\\image\\image_data_generator.py:356: UserWarning: This ImageDataGenerator specifies `samplewise_std_normalization`, which overrides setting of `samplewise_center`.\n",
      "  warnings.warn('This ImageDataGenerator specifies '\n",
      "C:\\Users\\music\\anaconda3\\envs\\csc790\\lib\\site-packages\\keras_preprocessing\\image\\image_data_generator.py:356: UserWarning: This ImageDataGenerator specifies `samplewise_std_normalization`, which overrides setting of `samplewise_center`.\n",
      "  warnings.warn('This ImageDataGenerator specifies '\n"
     ]
    },
    {
     "name": "stdout",
     "output_type": "stream",
     "text": [
      "Found 12633 non-validated image filenames belonging to 2 classes.\n",
      "Found 11370 non-validated image filenames belonging to 2 classes.\n",
      "\n",
      "Found 102315 non-validated image filenames belonging to 2 classes.\n"
     ]
    },
    {
     "name": "stderr",
     "output_type": "stream",
     "text": [
      "C:\\Users\\music\\anaconda3\\envs\\csc790\\lib\\site-packages\\keras_preprocessing\\image\\image_data_generator.py:356: UserWarning: This ImageDataGenerator specifies `samplewise_std_normalization`, which overrides setting of `samplewise_center`.\n",
      "  warnings.warn('This ImageDataGenerator specifies '\n",
      "C:\\Users\\music\\anaconda3\\envs\\csc790\\lib\\site-packages\\keras_preprocessing\\image\\image_data_generator.py:356: UserWarning: This ImageDataGenerator specifies `samplewise_std_normalization`, which overrides setting of `samplewise_center`.\n",
      "  warnings.warn('This ImageDataGenerator specifies '\n"
     ]
    },
    {
     "name": "stdout",
     "output_type": "stream",
     "text": [
      "Found 12633 non-validated image filenames belonging to 2 classes.\n",
      "Found 11370 non-validated image filenames belonging to 2 classes.\n",
      "\n",
      "Found 102315 non-validated image filenames belonging to 2 classes.\n"
     ]
    },
    {
     "name": "stderr",
     "output_type": "stream",
     "text": [
      "C:\\Users\\music\\anaconda3\\envs\\csc790\\lib\\site-packages\\keras_preprocessing\\image\\image_data_generator.py:356: UserWarning: This ImageDataGenerator specifies `samplewise_std_normalization`, which overrides setting of `samplewise_center`.\n",
      "  warnings.warn('This ImageDataGenerator specifies '\n",
      "C:\\Users\\music\\anaconda3\\envs\\csc790\\lib\\site-packages\\keras_preprocessing\\image\\image_data_generator.py:356: UserWarning: This ImageDataGenerator specifies `samplewise_std_normalization`, which overrides setting of `samplewise_center`.\n",
      "  warnings.warn('This ImageDataGenerator specifies '\n"
     ]
    },
    {
     "name": "stdout",
     "output_type": "stream",
     "text": [
      "Found 12633 non-validated image filenames belonging to 2 classes.\n",
      "Found 11370 non-validated image filenames belonging to 2 classes.\n",
      "\n",
      "Found 102315 non-validated image filenames belonging to 2 classes.\n",
      "Found 12633 non-validated image filenames belonging to 2 classes.\n"
     ]
    },
    {
     "name": "stderr",
     "output_type": "stream",
     "text": [
      "C:\\Users\\music\\anaconda3\\envs\\csc790\\lib\\site-packages\\keras_preprocessing\\image\\image_data_generator.py:356: UserWarning: This ImageDataGenerator specifies `samplewise_std_normalization`, which overrides setting of `samplewise_center`.\n",
      "  warnings.warn('This ImageDataGenerator specifies '\n",
      "C:\\Users\\music\\anaconda3\\envs\\csc790\\lib\\site-packages\\keras_preprocessing\\image\\image_data_generator.py:356: UserWarning: This ImageDataGenerator specifies `samplewise_std_normalization`, which overrides setting of `samplewise_center`.\n",
      "  warnings.warn('This ImageDataGenerator specifies '\n"
     ]
    },
    {
     "name": "stdout",
     "output_type": "stream",
     "text": [
      "Found 11370 non-validated image filenames belonging to 2 classes.\n",
      "\n",
      "Found 102315 non-validated image filenames belonging to 2 classes.\n",
      "Found 12633 non-validated image filenames belonging to 2 classes.\n"
     ]
    },
    {
     "name": "stderr",
     "output_type": "stream",
     "text": [
      "C:\\Users\\music\\anaconda3\\envs\\csc790\\lib\\site-packages\\keras_preprocessing\\image\\image_data_generator.py:356: UserWarning: This ImageDataGenerator specifies `samplewise_std_normalization`, which overrides setting of `samplewise_center`.\n",
      "  warnings.warn('This ImageDataGenerator specifies '\n",
      "C:\\Users\\music\\anaconda3\\envs\\csc790\\lib\\site-packages\\keras_preprocessing\\image\\image_data_generator.py:356: UserWarning: This ImageDataGenerator specifies `samplewise_std_normalization`, which overrides setting of `samplewise_center`.\n",
      "  warnings.warn('This ImageDataGenerator specifies '\n"
     ]
    },
    {
     "name": "stdout",
     "output_type": "stream",
     "text": [
      "Found 11370 non-validated image filenames belonging to 2 classes.\n",
      "\n",
      "Found 102315 non-validated image filenames belonging to 2 classes.\n",
      "Found 12633 non-validated image filenames belonging to 2 classes.\n"
     ]
    },
    {
     "name": "stderr",
     "output_type": "stream",
     "text": [
      "C:\\Users\\music\\anaconda3\\envs\\csc790\\lib\\site-packages\\keras_preprocessing\\image\\image_data_generator.py:356: UserWarning: This ImageDataGenerator specifies `samplewise_std_normalization`, which overrides setting of `samplewise_center`.\n",
      "  warnings.warn('This ImageDataGenerator specifies '\n",
      "C:\\Users\\music\\anaconda3\\envs\\csc790\\lib\\site-packages\\keras_preprocessing\\image\\image_data_generator.py:356: UserWarning: This ImageDataGenerator specifies `samplewise_std_normalization`, which overrides setting of `samplewise_center`.\n",
      "  warnings.warn('This ImageDataGenerator specifies '\n"
     ]
    },
    {
     "name": "stdout",
     "output_type": "stream",
     "text": [
      "Found 11370 non-validated image filenames belonging to 2 classes.\n",
      "\n",
      "Found 102315 non-validated image filenames belonging to 2 classes.\n",
      "Found 12633 non-validated image filenames belonging to 2 classes.\n",
      "Found 11370 non-validated image filenames belonging to 2 classes.\n",
      "\n"
     ]
    },
    {
     "name": "stderr",
     "output_type": "stream",
     "text": [
      "C:\\Users\\music\\anaconda3\\envs\\csc790\\lib\\site-packages\\keras_preprocessing\\image\\image_data_generator.py:356: UserWarning: This ImageDataGenerator specifies `samplewise_std_normalization`, which overrides setting of `samplewise_center`.\n",
      "  warnings.warn('This ImageDataGenerator specifies '\n"
     ]
    }
   ],
   "source": [
    "kFCV_sets, weights_dict = utils.makeFolds(dataset=dataset, n_folds=n_folds, batch_size=batch_size)"
   ]
  },
  {
   "cell_type": "code",
   "execution_count": 7,
   "metadata": {},
   "outputs": [
    {
     "name": "stdout",
     "output_type": "stream",
     "text": [
      "{0: 0.9585261658953365, 1: 1.045225155279503}\n"
     ]
    }
   ],
   "source": [
    "print(weights_dict)"
   ]
  },
  {
   "cell_type": "code",
   "execution_count": 8,
   "metadata": {},
   "outputs": [
    {
     "name": "stdout",
     "output_type": "stream",
     "text": [
      "Fold 1 of 10\n",
      "Epoch 1/100\n",
      "800/800 [==============================] - 50s 62ms/step - loss: 0.5361 - accuracy: 0.9396 - val_loss: 0.5370 - val_accuracy: 0.9551\n",
      "Epoch 2/100\n",
      "800/800 [==============================] - 50s 63ms/step - loss: 0.5206 - accuracy: 0.9634 - val_loss: 0.5287 - val_accuracy: 0.9690\n",
      "Epoch 3/100\n",
      "800/800 [==============================] - 50s 63ms/step - loss: 0.5185 - accuracy: 0.9677 - val_loss: 0.5268 - val_accuracy: 0.9674\n",
      "Epoch 4/100\n",
      "800/800 [==============================] - 50s 63ms/step - loss: 0.5172 - accuracy: 0.9703 - val_loss: 0.5292 - val_accuracy: 0.9619\n",
      "Epoch 5/100\n",
      "800/800 [==============================] - 50s 62ms/step - loss: 0.5166 - accuracy: 0.9717 - val_loss: 0.5225 - val_accuracy: 0.9772\n",
      "Epoch 6/100\n",
      "799/800 [============================>.] - ETA: 0s - loss: 0.5156 - accuracy: 0.9733Restoring model weights from the end of the best epoch.\n",
      "800/800 [==============================] - 50s 63ms/step - loss: 0.5157 - accuracy: 0.9733 - val_loss: 0.5280 - val_accuracy: 0.9607\n",
      "Epoch 00006: early stopping\n",
      "99/99 [==============================] - 5s 47ms/step - loss: 0.5255 - accuracy: 0.9719\n",
      "WARNING:tensorflow:From C:\\Users\\music\\anaconda3\\envs\\csc790\\lib\\site-packages\\tensorflow\\python\\training\\tracking\\tracking.py:111: Model.state_updates (from tensorflow.python.keras.engine.training) is deprecated and will be removed in a future version.\n",
      "Instructions for updating:\n",
      "This property should not be used in TensorFlow 2.0, as updates are applied automatically.\n",
      "WARNING:tensorflow:From C:\\Users\\music\\anaconda3\\envs\\csc790\\lib\\site-packages\\tensorflow\\python\\training\\tracking\\tracking.py:111: Layer.updates (from tensorflow.python.keras.engine.base_layer) is deprecated and will be removed in a future version.\n",
      "Instructions for updating:\n",
      "This property should not be used in TensorFlow 2.0, as updates are applied automatically.\n",
      "INFO:tensorflow:Assets written to: Models/mDenseNet\\assets\n",
      "Fold 2 of 10\n",
      "Epoch 1/100\n",
      "800/800 [==============================] - 51s 63ms/step - loss: 0.5365 - accuracy: 0.9382 - val_loss: 0.5316 - val_accuracy: 0.9550\n",
      "Epoch 2/100\n",
      "800/800 [==============================] - 50s 62ms/step - loss: 0.5219 - accuracy: 0.9607 - val_loss: 0.5250 - val_accuracy: 0.9702\n",
      "Epoch 3/100\n",
      "800/800 [==============================] - 50s 63ms/step - loss: 0.5188 - accuracy: 0.9671 - val_loss: 0.5269 - val_accuracy: 0.9635\n",
      "Epoch 4/100\n",
      "797/800 [============================>.] - ETA: 0s - loss: 0.5177 - accuracy: 0.9695Restoring model weights from the end of the best epoch.\n",
      "800/800 [==============================] - 50s 63ms/step - loss: 0.5176 - accuracy: 0.9695 - val_loss: 0.5235 - val_accuracy: 0.9763\n",
      "Epoch 00004: early stopping\n",
      "99/99 [==============================] - 5s 46ms/step - loss: 0.5295 - accuracy: 0.9606\n",
      "Fold 3 of 10\n",
      "Epoch 1/100\n",
      "800/800 [==============================] - 53s 66ms/step - loss: 0.5393 - accuracy: 0.9350 - val_loss: 0.5347 - val_accuracy: 0.9584\n",
      "Epoch 2/100\n",
      "800/800 [==============================] - 51s 63ms/step - loss: 0.5203 - accuracy: 0.9643 - val_loss: 0.5273 - val_accuracy: 0.9610\n",
      "Epoch 3/100\n",
      "800/800 [==============================] - 51s 64ms/step - loss: 0.5184 - accuracy: 0.9678 - val_loss: 0.5283 - val_accuracy: 0.9600\n",
      "Epoch 4/100\n",
      "800/800 [==============================] - ETA: 0s - loss: 0.5170 - accuracy: 0.9708Restoring model weights from the end of the best epoch.\n",
      "800/800 [==============================] - 51s 64ms/step - loss: 0.5170 - accuracy: 0.9708 - val_loss: 0.5283 - val_accuracy: 0.9585\n",
      "Epoch 00004: early stopping\n",
      "99/99 [==============================] - 5s 47ms/step - loss: 0.5343 - accuracy: 0.9587\n",
      "Fold 4 of 10\n",
      "Epoch 1/100\n",
      "800/800 [==============================] - 50s 63ms/step - loss: 0.5350 - accuracy: 0.9437 - val_loss: 0.5342 - val_accuracy: 0.9619\n",
      "Epoch 2/100\n",
      "800/800 [==============================] - 50s 63ms/step - loss: 0.5204 - accuracy: 0.9646 - val_loss: 0.5238 - val_accuracy: 0.9755\n",
      "Epoch 3/100\n",
      "800/800 [==============================] - 50s 63ms/step - loss: 0.5187 - accuracy: 0.9672 - val_loss: 0.5235 - val_accuracy: 0.9734\n",
      "Epoch 4/100\n",
      "800/800 [==============================] - 50s 63ms/step - loss: 0.5173 - accuracy: 0.9700 - val_loss: 0.5293 - val_accuracy: 0.9534\n",
      "Epoch 5/100\n",
      "800/800 [==============================] - ETA: 0s - loss: 0.5164 - accuracy: 0.9720Restoring model weights from the end of the best epoch.\n",
      "800/800 [==============================] - 50s 63ms/step - loss: 0.5164 - accuracy: 0.9720 - val_loss: 0.5222 - val_accuracy: 0.9777\n",
      "Epoch 00005: early stopping\n",
      "99/99 [==============================] - 5s 48ms/step - loss: 0.5253 - accuracy: 0.9720\n",
      "Fold 5 of 10\n",
      "Epoch 1/100\n",
      "800/800 [==============================] - 55s 68ms/step - loss: 0.5352 - accuracy: 0.9444 - val_loss: 0.5284 - val_accuracy: 0.9602\n",
      "Epoch 2/100\n",
      "800/800 [==============================] - 53s 67ms/step - loss: 0.5200 - accuracy: 0.9649 - val_loss: 0.5331 - val_accuracy: 0.9635\n",
      "Epoch 3/100\n",
      "800/800 [==============================] - 53s 66ms/step - loss: 0.5182 - accuracy: 0.9686 - val_loss: 0.5286 - val_accuracy: 0.9705\n",
      "Epoch 4/100\n",
      "800/800 [==============================] - ETA: 0s - loss: 0.5169 - accuracy: 0.9712Restoring model weights from the end of the best epoch.\n",
      "800/800 [==============================] - 53s 66ms/step - loss: 0.5169 - accuracy: 0.9712 - val_loss: 0.5302 - val_accuracy: 0.9503\n",
      "Epoch 00004: early stopping\n",
      "99/99 [==============================] - 5s 49ms/step - loss: 0.5297 - accuracy: 0.9587\n",
      "Fold 6 of 10\n",
      "Epoch 1/100\n",
      "800/800 [==============================] - 55s 68ms/step - loss: 0.5343 - accuracy: 0.9449 - val_loss: 0.5300 - val_accuracy: 0.9669\n",
      "Epoch 2/100\n",
      "800/800 [==============================] - 54s 68ms/step - loss: 0.5205 - accuracy: 0.9644 - val_loss: 0.5314 - val_accuracy: 0.9509\n",
      "Epoch 3/100\n",
      "800/800 [==============================] - 54s 67ms/step - loss: 0.5185 - accuracy: 0.9681 - val_loss: 0.5262 - val_accuracy: 0.9687\n",
      "Epoch 4/100\n",
      "800/800 [==============================] - ETA: 0s - loss: 0.5168 - accuracy: 0.9713Restoring model weights from the end of the best epoch.\n",
      "800/800 [==============================] - 54s 67ms/step - loss: 0.5168 - accuracy: 0.9713 - val_loss: 0.5238 - val_accuracy: 0.9762\n",
      "Epoch 00004: early stopping\n",
      "99/99 [==============================] - 5s 50ms/step - loss: 0.5301 - accuracy: 0.9660\n",
      "Fold 7 of 10\n",
      "Epoch 1/100\n",
      "800/800 [==============================] - 53s 66ms/step - loss: 0.5338 - accuracy: 0.9433 - val_loss: 0.5311 - val_accuracy: 0.9545\n",
      "Epoch 2/100\n",
      "800/800 [==============================] - 53s 66ms/step - loss: 0.5197 - accuracy: 0.9659 - val_loss: 0.5241 - val_accuracy: 0.9731\n",
      "Epoch 3/100\n",
      "800/800 [==============================] - 52s 66ms/step - loss: 0.5179 - accuracy: 0.9691 - val_loss: 0.5245 - val_accuracy: 0.9755\n",
      "Epoch 4/100\n",
      "798/800 [============================>.] - ETA: 0s - loss: 0.5164 - accuracy: 0.9725Restoring model weights from the end of the best epoch.\n",
      "800/800 [==============================] - 53s 66ms/step - loss: 0.5164 - accuracy: 0.9725 - val_loss: 0.5268 - val_accuracy: 0.9653\n",
      "Epoch 00004: early stopping\n",
      "99/99 [==============================] - 5s 49ms/step - loss: 0.5299 - accuracy: 0.9573\n",
      "Fold 8 of 10\n",
      "Epoch 1/100\n",
      "800/800 [==============================] - 55s 69ms/step - loss: 0.5327 - accuracy: 0.9477 - val_loss: 0.5293 - val_accuracy: 0.9679\n",
      "Epoch 2/100\n",
      "800/800 [==============================] - 56s 69ms/step - loss: 0.5203 - accuracy: 0.9642 - val_loss: 0.5262 - val_accuracy: 0.9707\n",
      "Epoch 3/100\n",
      "800/800 [==============================] - 55s 69ms/step - loss: 0.5189 - accuracy: 0.9672 - val_loss: 0.5256 - val_accuracy: 0.9687\n",
      "Epoch 4/100\n",
      "798/800 [============================>.] - ETA: 0s - loss: 0.5174 - accuracy: 0.9701Restoring model weights from the end of the best epoch.\n",
      "800/800 [==============================] - 55s 69ms/step - loss: 0.5174 - accuracy: 0.9701 - val_loss: 0.5339 - val_accuracy: 0.9445\n",
      "Epoch 00004: early stopping\n",
      "99/99 [==============================] - 5s 51ms/step - loss: 0.5325 - accuracy: 0.9615\n",
      "Fold 9 of 10\n",
      "Epoch 1/100\n",
      "800/800 [==============================] - 57s 71ms/step - loss: 0.5327 - accuracy: 0.9466 - val_loss: 0.5279 - val_accuracy: 0.9668\n",
      "Epoch 2/100\n",
      "800/800 [==============================] - 57s 71ms/step - loss: 0.5196 - accuracy: 0.9654 - val_loss: 0.5282 - val_accuracy: 0.9604\n",
      "Epoch 3/100\n",
      "800/800 [==============================] - 56s 70ms/step - loss: 0.5178 - accuracy: 0.9691 - val_loss: 0.5245 - val_accuracy: 0.9758\n",
      "Epoch 4/100\n",
      "799/800 [============================>.] - ETA: 0s - loss: 0.5169 - accuracy: 0.9711Restoring model weights from the end of the best epoch.\n",
      "800/800 [==============================] - 56s 70ms/step - loss: 0.5169 - accuracy: 0.9711 - val_loss: 0.5244 - val_accuracy: 0.9703\n",
      "Epoch 00004: early stopping\n",
      "99/99 [==============================] - 5s 52ms/step - loss: 0.5300 - accuracy: 0.9631\n",
      "Fold 10 of 10\n",
      "Epoch 1/100\n",
      "800/800 [==============================] - 55s 68ms/step - loss: 0.5346 - accuracy: 0.9457 - val_loss: 0.5291 - val_accuracy: 0.9693\n",
      "Epoch 2/100\n",
      "800/800 [==============================] - 54s 67ms/step - loss: 0.5201 - accuracy: 0.9647 - val_loss: 0.5280 - val_accuracy: 0.9622\n",
      "Epoch 3/100\n",
      "800/800 [==============================] - 54s 67ms/step - loss: 0.5181 - accuracy: 0.9684 - val_loss: 0.5318 - val_accuracy: 0.9490\n",
      "Epoch 4/100\n",
      "799/800 [============================>.] - ETA: 0s - loss: 0.5170 - accuracy: 0.9705Restoring model weights from the end of the best epoch.\n",
      "800/800 [==============================] - 54s 67ms/step - loss: 0.5170 - accuracy: 0.9705 - val_loss: 0.5267 - val_accuracy: 0.9727\n",
      "Epoch 00004: early stopping\n",
      "99/99 [==============================] - 5s 50ms/step - loss: 0.5309 - accuracy: 0.9652\n"
     ]
    }
   ],
   "source": [
    "k_results=pd.DataFrame(columns = ['Fold', 'Loss', 'Accuracy'])\n",
    "\n",
    "for i, k in enumerate(kFCV_sets):\n",
    "    print(\"Fold\", i+1, \"of\", len(kFCV_sets))\n",
    "\n",
    "    train_generator, test_generator, val_generator = k\n",
    "\n",
    "    #Build Model\n",
    "    model = utils.makeModel(inputShape=(150, 150, 3), modelName=modelName)\n",
    "    opt = tf.optimizers.Adam()\n",
    "    model.compile(\n",
    "        optimizer = opt,\n",
    "        loss = keras.losses.BinaryCrossentropy(from_logits = True),\n",
    "        metrics = [\"accuracy\"]\n",
    "    )\n",
    "\n",
    "    #Fit data  \n",
    "    model.fit(\n",
    "        train_generator,\n",
    "        validation_data=val_generator,\n",
    "        callbacks = utils.callbacks,\n",
    "        epochs = 100,\n",
    "        class_weight = weights_dict,\n",
    "        max_queue_size = 10,\n",
    "        workers = os.cpu_count(),\n",
    "    )\n",
    "\n",
    "    #Test accuracy\n",
    "    results = model.evaluate(\n",
    "        test_generator,\n",
    "        max_queue_size = 10,\n",
    "        workers = os.cpu_count(),\n",
    "    )\n",
    "\n",
    "    k_results = k_results.append({'Fold':i+1, 'Loss':results[0], 'Accuracy':results[1]}, ignore_index=True)\n",
    "    \n",
    "    if i == 0:\n",
    "        # Write the summary to a file\n",
    "        with open(f'Results/{modelName}Summary.txt', 'w') as f:\n",
    "            with redirect_stdout(f):\n",
    "                print(model.summary())\n",
    "        #Save the model\n",
    "        model.save(f'Models/{modelName}')\n",
    "        \n",
    "    keras.backend.clear_session() \n",
    "\n",
    "k_results = k_results.append({'Fold':\"Avg\", 'Loss':np.average(k_results['Loss']), 'Accuracy':np.average(k_results['Accuracy'])}, ignore_index=True)"
   ]
  },
  {
   "cell_type": "code",
   "execution_count": 9,
   "metadata": {},
   "outputs": [],
   "source": [
    "if n_folds != 1:\n",
    "    k_results.to_csv(f'Results/k-fcv_{modelName}.csv')"
   ]
  }
 ],
 "metadata": {
  "kernelspec": {
   "display_name": "csc790",
   "language": "python",
   "name": "csc790"
  },
  "language_info": {
   "codemirror_mode": {
    "name": "ipython",
    "version": 3
   },
   "file_extension": ".py",
   "mimetype": "text/x-python",
   "name": "python",
   "nbconvert_exporter": "python",
   "pygments_lexer": "ipython3",
   "version": "3.8.5"
  }
 },
 "nbformat": 4,
 "nbformat_minor": 4
}
