{
 "cells": [
  {
   "cell_type": "code",
   "execution_count": 1,
   "metadata": {},
   "outputs": [],
   "source": [
    "import numpy as np\n",
    "import pandas as pd\n",
    "\n",
    "import tensorflow as tf\n",
    "from tensorflow import keras\n",
    "from tensorflow.random import set_seed\n",
    "\n",
    "from tqdm import tqdm\n",
    "from contextlib import redirect_stdout\n",
    "import os\n",
    "\n",
    "import utils"
   ]
  },
  {
   "cell_type": "code",
   "execution_count": 2,
   "metadata": {},
   "outputs": [],
   "source": [
    "# Define a model name for repeated use\n",
    "modelName = \"InceptionResNetV2\"\n",
    "n_folds = 10 # 1 = normal experiment\n",
    "batch_size = 128 # 128 is default across the models"
   ]
  },
  {
   "cell_type": "code",
   "execution_count": 3,
   "metadata": {},
   "outputs": [],
   "source": [
    "#Seeding random state to 13 always, for reproducibility\n",
    "np.random.seed(utils.seed)\n",
    "set_seed(utils.seed)"
   ]
  },
  {
   "cell_type": "code",
   "execution_count": 4,
   "metadata": {},
   "outputs": [
    {
     "name": "stdout",
     "output_type": "stream",
     "text": [
      "gpus: [PhysicalDevice(name='/physical_device:GPU:0', device_type='GPU')]\n",
      "1 Physical GPU, 1 Logical GPUs\n"
     ]
    }
   ],
   "source": [
    "### Used to select GPU 0=first device, 1=second device, etc...\n",
    "os.environ[\"CUDA_VISIBLE_DEVICES\"]=\"0\"\n",
    "\n",
    "gpus = tf.config.experimental.list_physical_devices('GPU')\n",
    "print('gpus:',gpus)\n",
    "if gpus:\n",
    "    try:\n",
    "        tf.config.experimental.set_visible_devices(gpus[0], 'GPU')\n",
    "        tf.config.experimental.set_memory_growth(gpus[0], True)\n",
    "        logical_gpus = tf.config.experimental.list_logical_devices('GPU')\n",
    "        print(len(gpus), \"Physical GPU,\", len(logical_gpus), \"Logical GPUs\")\n",
    "    except RuntimeError as e:\n",
    "        # Virtual devices must be set before GPUs have been initialized\n",
    "        print(e)"
   ]
  },
  {
   "cell_type": "code",
   "execution_count": 5,
   "metadata": {},
   "outputs": [
    {
     "name": "stderr",
     "output_type": "stream",
     "text": [
      "94493it [00:00, 842966.22it/s]\n",
      "94493it [00:00, 1378288.49it/s]\n",
      "31825it [00:00, 847957.19it/s]\n",
      "31825it [00:00, 1514227.82it/s]\n"
     ]
    }
   ],
   "source": [
    "dataset = utils.makeDataset(pathFromCwdToDataRoot=\"Data\")"
   ]
  },
  {
   "cell_type": "code",
   "execution_count": 6,
   "metadata": {},
   "outputs": [
    {
     "name": "stderr",
     "output_type": "stream",
     "text": [
      "C:\\Users\\music\\anaconda3\\envs\\csc790\\lib\\site-packages\\keras_preprocessing\\image\\image_data_generator.py:356: UserWarning: This ImageDataGenerator specifies `samplewise_std_normalization`, which overrides setting of `samplewise_center`.\n",
      "  warnings.warn('This ImageDataGenerator specifies '\n"
     ]
    },
    {
     "name": "stdout",
     "output_type": "stream",
     "text": [
      "Found 102315 non-validated image filenames belonging to 2 classes.\n"
     ]
    },
    {
     "name": "stderr",
     "output_type": "stream",
     "text": [
      "C:\\Users\\music\\anaconda3\\envs\\csc790\\lib\\site-packages\\keras_preprocessing\\image\\image_data_generator.py:356: UserWarning: This ImageDataGenerator specifies `samplewise_std_normalization`, which overrides setting of `samplewise_center`.\n",
      "  warnings.warn('This ImageDataGenerator specifies '\n",
      "C:\\Users\\music\\anaconda3\\envs\\csc790\\lib\\site-packages\\keras_preprocessing\\image\\image_data_generator.py:356: UserWarning: This ImageDataGenerator specifies `samplewise_std_normalization`, which overrides setting of `samplewise_center`.\n",
      "  warnings.warn('This ImageDataGenerator specifies '\n"
     ]
    },
    {
     "name": "stdout",
     "output_type": "stream",
     "text": [
      "Found 12633 non-validated image filenames belonging to 2 classes.\n",
      "Found 11370 non-validated image filenames belonging to 2 classes.\n",
      "\n",
      "Found 102315 non-validated image filenames belonging to 2 classes.\n"
     ]
    },
    {
     "name": "stderr",
     "output_type": "stream",
     "text": [
      "C:\\Users\\music\\anaconda3\\envs\\csc790\\lib\\site-packages\\keras_preprocessing\\image\\image_data_generator.py:356: UserWarning: This ImageDataGenerator specifies `samplewise_std_normalization`, which overrides setting of `samplewise_center`.\n",
      "  warnings.warn('This ImageDataGenerator specifies '\n",
      "C:\\Users\\music\\anaconda3\\envs\\csc790\\lib\\site-packages\\keras_preprocessing\\image\\image_data_generator.py:356: UserWarning: This ImageDataGenerator specifies `samplewise_std_normalization`, which overrides setting of `samplewise_center`.\n",
      "  warnings.warn('This ImageDataGenerator specifies '\n"
     ]
    },
    {
     "name": "stdout",
     "output_type": "stream",
     "text": [
      "Found 12633 non-validated image filenames belonging to 2 classes.\n",
      "Found 11370 non-validated image filenames belonging to 2 classes.\n",
      "\n",
      "Found 102315 non-validated image filenames belonging to 2 classes.\n"
     ]
    },
    {
     "name": "stderr",
     "output_type": "stream",
     "text": [
      "C:\\Users\\music\\anaconda3\\envs\\csc790\\lib\\site-packages\\keras_preprocessing\\image\\image_data_generator.py:356: UserWarning: This ImageDataGenerator specifies `samplewise_std_normalization`, which overrides setting of `samplewise_center`.\n",
      "  warnings.warn('This ImageDataGenerator specifies '\n",
      "C:\\Users\\music\\anaconda3\\envs\\csc790\\lib\\site-packages\\keras_preprocessing\\image\\image_data_generator.py:356: UserWarning: This ImageDataGenerator specifies `samplewise_std_normalization`, which overrides setting of `samplewise_center`.\n",
      "  warnings.warn('This ImageDataGenerator specifies '\n"
     ]
    },
    {
     "name": "stdout",
     "output_type": "stream",
     "text": [
      "Found 12633 non-validated image filenames belonging to 2 classes.\n",
      "Found 11370 non-validated image filenames belonging to 2 classes.\n",
      "\n",
      "Found 102315 non-validated image filenames belonging to 2 classes.\n"
     ]
    },
    {
     "name": "stderr",
     "output_type": "stream",
     "text": [
      "C:\\Users\\music\\anaconda3\\envs\\csc790\\lib\\site-packages\\keras_preprocessing\\image\\image_data_generator.py:356: UserWarning: This ImageDataGenerator specifies `samplewise_std_normalization`, which overrides setting of `samplewise_center`.\n",
      "  warnings.warn('This ImageDataGenerator specifies '\n",
      "C:\\Users\\music\\anaconda3\\envs\\csc790\\lib\\site-packages\\keras_preprocessing\\image\\image_data_generator.py:356: UserWarning: This ImageDataGenerator specifies `samplewise_std_normalization`, which overrides setting of `samplewise_center`.\n",
      "  warnings.warn('This ImageDataGenerator specifies '\n"
     ]
    },
    {
     "name": "stdout",
     "output_type": "stream",
     "text": [
      "Found 12633 non-validated image filenames belonging to 2 classes.\n",
      "Found 11370 non-validated image filenames belonging to 2 classes.\n",
      "\n",
      "Found 102315 non-validated image filenames belonging to 2 classes.\n"
     ]
    },
    {
     "name": "stderr",
     "output_type": "stream",
     "text": [
      "C:\\Users\\music\\anaconda3\\envs\\csc790\\lib\\site-packages\\keras_preprocessing\\image\\image_data_generator.py:356: UserWarning: This ImageDataGenerator specifies `samplewise_std_normalization`, which overrides setting of `samplewise_center`.\n",
      "  warnings.warn('This ImageDataGenerator specifies '\n",
      "C:\\Users\\music\\anaconda3\\envs\\csc790\\lib\\site-packages\\keras_preprocessing\\image\\image_data_generator.py:356: UserWarning: This ImageDataGenerator specifies `samplewise_std_normalization`, which overrides setting of `samplewise_center`.\n",
      "  warnings.warn('This ImageDataGenerator specifies '\n"
     ]
    },
    {
     "name": "stdout",
     "output_type": "stream",
     "text": [
      "Found 12633 non-validated image filenames belonging to 2 classes.\n",
      "Found 11370 non-validated image filenames belonging to 2 classes.\n",
      "\n",
      "Found 102315 non-validated image filenames belonging to 2 classes.\n"
     ]
    },
    {
     "name": "stderr",
     "output_type": "stream",
     "text": [
      "C:\\Users\\music\\anaconda3\\envs\\csc790\\lib\\site-packages\\keras_preprocessing\\image\\image_data_generator.py:356: UserWarning: This ImageDataGenerator specifies `samplewise_std_normalization`, which overrides setting of `samplewise_center`.\n",
      "  warnings.warn('This ImageDataGenerator specifies '\n",
      "C:\\Users\\music\\anaconda3\\envs\\csc790\\lib\\site-packages\\keras_preprocessing\\image\\image_data_generator.py:356: UserWarning: This ImageDataGenerator specifies `samplewise_std_normalization`, which overrides setting of `samplewise_center`.\n",
      "  warnings.warn('This ImageDataGenerator specifies '\n"
     ]
    },
    {
     "name": "stdout",
     "output_type": "stream",
     "text": [
      "Found 12633 non-validated image filenames belonging to 2 classes.\n",
      "Found 11370 non-validated image filenames belonging to 2 classes.\n",
      "\n",
      "Found 102315 non-validated image filenames belonging to 2 classes.\n"
     ]
    },
    {
     "name": "stderr",
     "output_type": "stream",
     "text": [
      "C:\\Users\\music\\anaconda3\\envs\\csc790\\lib\\site-packages\\keras_preprocessing\\image\\image_data_generator.py:356: UserWarning: This ImageDataGenerator specifies `samplewise_std_normalization`, which overrides setting of `samplewise_center`.\n",
      "  warnings.warn('This ImageDataGenerator specifies '\n",
      "C:\\Users\\music\\anaconda3\\envs\\csc790\\lib\\site-packages\\keras_preprocessing\\image\\image_data_generator.py:356: UserWarning: This ImageDataGenerator specifies `samplewise_std_normalization`, which overrides setting of `samplewise_center`.\n",
      "  warnings.warn('This ImageDataGenerator specifies '\n"
     ]
    },
    {
     "name": "stdout",
     "output_type": "stream",
     "text": [
      "Found 12633 non-validated image filenames belonging to 2 classes.\n",
      "Found 11370 non-validated image filenames belonging to 2 classes.\n",
      "\n",
      "Found 102315 non-validated image filenames belonging to 2 classes.\n"
     ]
    },
    {
     "name": "stderr",
     "output_type": "stream",
     "text": [
      "C:\\Users\\music\\anaconda3\\envs\\csc790\\lib\\site-packages\\keras_preprocessing\\image\\image_data_generator.py:356: UserWarning: This ImageDataGenerator specifies `samplewise_std_normalization`, which overrides setting of `samplewise_center`.\n",
      "  warnings.warn('This ImageDataGenerator specifies '\n",
      "C:\\Users\\music\\anaconda3\\envs\\csc790\\lib\\site-packages\\keras_preprocessing\\image\\image_data_generator.py:356: UserWarning: This ImageDataGenerator specifies `samplewise_std_normalization`, which overrides setting of `samplewise_center`.\n",
      "  warnings.warn('This ImageDataGenerator specifies '\n"
     ]
    },
    {
     "name": "stdout",
     "output_type": "stream",
     "text": [
      "Found 12633 non-validated image filenames belonging to 2 classes.\n",
      "Found 11370 non-validated image filenames belonging to 2 classes.\n",
      "\n",
      "Found 102315 non-validated image filenames belonging to 2 classes.\n"
     ]
    },
    {
     "name": "stderr",
     "output_type": "stream",
     "text": [
      "C:\\Users\\music\\anaconda3\\envs\\csc790\\lib\\site-packages\\keras_preprocessing\\image\\image_data_generator.py:356: UserWarning: This ImageDataGenerator specifies `samplewise_std_normalization`, which overrides setting of `samplewise_center`.\n",
      "  warnings.warn('This ImageDataGenerator specifies '\n",
      "C:\\Users\\music\\anaconda3\\envs\\csc790\\lib\\site-packages\\keras_preprocessing\\image\\image_data_generator.py:356: UserWarning: This ImageDataGenerator specifies `samplewise_std_normalization`, which overrides setting of `samplewise_center`.\n",
      "  warnings.warn('This ImageDataGenerator specifies '\n"
     ]
    },
    {
     "name": "stdout",
     "output_type": "stream",
     "text": [
      "Found 12633 non-validated image filenames belonging to 2 classes.\n",
      "Found 11370 non-validated image filenames belonging to 2 classes.\n",
      "\n",
      "Found 102315 non-validated image filenames belonging to 2 classes.\n",
      "Found 12633 non-validated image filenames belonging to 2 classes.\n",
      "Found 11370 non-validated image filenames belonging to 2 classes.\n",
      "\n"
     ]
    },
    {
     "name": "stderr",
     "output_type": "stream",
     "text": [
      "C:\\Users\\music\\anaconda3\\envs\\csc790\\lib\\site-packages\\keras_preprocessing\\image\\image_data_generator.py:356: UserWarning: This ImageDataGenerator specifies `samplewise_std_normalization`, which overrides setting of `samplewise_center`.\n",
      "  warnings.warn('This ImageDataGenerator specifies '\n"
     ]
    }
   ],
   "source": [
    "kFCV_sets, weights_dict = utils.makeFolds(dataset=dataset, n_folds=n_folds, batch_size=batch_size)"
   ]
  },
  {
   "cell_type": "code",
   "execution_count": 7,
   "metadata": {},
   "outputs": [
    {
     "name": "stdout",
     "output_type": "stream",
     "text": [
      "{0: 0.9585261658953365, 1: 1.045225155279503}\n"
     ]
    }
   ],
   "source": [
    "print(weights_dict)"
   ]
  },
  {
   "cell_type": "code",
   "execution_count": 8,
   "metadata": {},
   "outputs": [
    {
     "name": "stdout",
     "output_type": "stream",
     "text": [
      "Fold 1 of 10\n",
      "Epoch 1/100\n",
      "  2/800 [..............................] - ETA: 3:22 - loss: 0.6545 - accuracy: 0.5039WARNING:tensorflow:Callbacks method `on_train_batch_end` is slow compared to the batch time (batch time: 0.1882s vs `on_train_batch_end` time: 0.3188s). Check your callbacks.\n",
      "800/800 [==============================] - 429s 536ms/step - loss: 0.5259 - accuracy: 0.9520 - val_loss: 0.5653 - val_accuracy: 0.8600\n",
      "Epoch 2/100\n",
      "800/800 [==============================] - 427s 533ms/step - loss: 0.5255 - accuracy: 0.9521 - val_loss: 0.5360 - val_accuracy: 0.9441\n",
      "Epoch 3/100\n",
      "800/800 [==============================] - 428s 535ms/step - loss: 0.5336 - accuracy: 0.9356 - val_loss: 0.5577 - val_accuracy: 0.8988\n",
      "Epoch 4/100\n",
      "800/800 [==============================] - 425s 531ms/step - loss: 0.5380 - accuracy: 0.9307 - val_loss: 0.5593 - val_accuracy: 0.8908\n",
      "Epoch 5/100\n",
      "800/800 [==============================] - ETA: 0s - loss: 0.5231 - accuracy: 0.9578Restoring model weights from the end of the best epoch.\n",
      "800/800 [==============================] - 423s 529ms/step - loss: 0.5231 - accuracy: 0.9578 - val_loss: 0.5310 - val_accuracy: 0.9651\n",
      "Epoch 00005: early stopping\n",
      "99/99 [==============================] - 16s 157ms/step - loss: 0.5412 - accuracy: 0.9326\n",
      "WARNING:tensorflow:From C:\\Users\\music\\anaconda3\\envs\\csc790\\lib\\site-packages\\tensorflow\\python\\training\\tracking\\tracking.py:111: Model.state_updates (from tensorflow.python.keras.engine.training) is deprecated and will be removed in a future version.\n",
      "Instructions for updating:\n",
      "This property should not be used in TensorFlow 2.0, as updates are applied automatically.\n",
      "WARNING:tensorflow:From C:\\Users\\music\\anaconda3\\envs\\csc790\\lib\\site-packages\\tensorflow\\python\\training\\tracking\\tracking.py:111: Layer.updates (from tensorflow.python.keras.engine.base_layer) is deprecated and will be removed in a future version.\n",
      "Instructions for updating:\n",
      "This property should not be used in TensorFlow 2.0, as updates are applied automatically.\n",
      "INFO:tensorflow:Assets written to: Models/InceptionResNetV2\\assets\n",
      "Fold 2 of 10\n",
      "Epoch 1/100\n",
      "  2/800 [..............................] - ETA: 3:25 - loss: 0.6950 - accuracy: 0.4922WARNING:tensorflow:Callbacks method `on_train_batch_end` is slow compared to the batch time (batch time: 0.1942s vs `on_train_batch_end` time: 0.3203s). Check your callbacks.\n",
      "800/800 [==============================] - 431s 538ms/step - loss: 0.5230 - accuracy: 0.9572 - val_loss: 0.5226 - val_accuracy: 0.9783\n",
      "Epoch 2/100\n",
      "800/800 [==============================] - 423s 529ms/step - loss: 0.5207 - accuracy: 0.9634 - val_loss: 0.5328 - val_accuracy: 0.9499\n",
      "Epoch 3/100\n",
      "800/800 [==============================] - 422s 528ms/step - loss: 0.5266 - accuracy: 0.9494 - val_loss: 0.5323 - val_accuracy: 0.9500\n",
      "Epoch 4/100\n",
      "800/800 [==============================] - ETA: 0s - loss: 0.5235 - accuracy: 0.9566Restoring model weights from the end of the best epoch.\n",
      "800/800 [==============================] - 422s 528ms/step - loss: 0.5235 - accuracy: 0.9566 - val_loss: 0.5236 - val_accuracy: 0.9744\n",
      "Epoch 00004: early stopping\n",
      "99/99 [==============================] - 15s 152ms/step - loss: 0.5227 - accuracy: 0.9782\n",
      "Fold 3 of 10\n",
      "Epoch 1/100\n",
      "  2/800 [..............................] - ETA: 3:22 - loss: 0.7342 - accuracy: 0.5000WARNING:tensorflow:Callbacks method `on_train_batch_end` is slow compared to the batch time (batch time: 0.1892s vs `on_train_batch_end` time: 0.3163s). Check your callbacks.\n",
      "800/800 [==============================] - 427s 534ms/step - loss: 0.5247 - accuracy: 0.9540 - val_loss: 0.5876 - val_accuracy: 0.8003\n",
      "Epoch 2/100\n",
      "800/800 [==============================] - 423s 529ms/step - loss: 0.5284 - accuracy: 0.9471 - val_loss: 0.5425 - val_accuracy: 0.9458\n",
      "Epoch 3/100\n",
      "800/800 [==============================] - 422s 527ms/step - loss: 0.5276 - accuracy: 0.9474 - val_loss: 0.5270 - val_accuracy: 0.9679\n",
      "Epoch 4/100\n",
      "800/800 [==============================] - 420s 525ms/step - loss: 0.5299 - accuracy: 0.9427 - val_loss: 0.5778 - val_accuracy: 0.8900\n",
      "Epoch 5/100\n",
      "800/800 [==============================] - 420s 525ms/step - loss: 0.5237 - accuracy: 0.9568 - val_loss: 0.5698 - val_accuracy: 0.8484\n",
      "Epoch 6/100\n",
      "800/800 [==============================] - ETA: 0s - loss: 0.5250 - accuracy: 0.9547Restoring model weights from the end of the best epoch.\n",
      "800/800 [==============================] - 420s 525ms/step - loss: 0.5250 - accuracy: 0.9547 - val_loss: 0.5310 - val_accuracy: 0.9632\n",
      "Epoch 00006: early stopping\n",
      "99/99 [==============================] - 15s 151ms/step - loss: 0.5294 - accuracy: 0.9637\n",
      "Fold 4 of 10\n",
      "Epoch 1/100\n",
      "  2/800 [..............................] - ETA: 3:21 - loss: 0.7296 - accuracy: 0.4922WARNING:tensorflow:Callbacks method `on_train_batch_end` is slow compared to the batch time (batch time: 0.1902s vs `on_train_batch_end` time: 0.3148s). Check your callbacks.\n",
      "800/800 [==============================] - 425s 531ms/step - loss: 0.5248 - accuracy: 0.9542 - val_loss: 0.5511 - val_accuracy: 0.8981\n",
      "Epoch 2/100\n",
      "800/800 [==============================] - 421s 527ms/step - loss: 0.5224 - accuracy: 0.9584 - val_loss: 0.5337 - val_accuracy: 0.9440\n",
      "Epoch 3/100\n",
      "800/800 [==============================] - 420s 526ms/step - loss: 0.5238 - accuracy: 0.9548 - val_loss: 0.5338 - val_accuracy: 0.9615\n",
      "Epoch 4/100\n",
      "800/800 [==============================] - 420s 525ms/step - loss: 0.5244 - accuracy: 0.9540 - val_loss: 0.5280 - val_accuracy: 0.9592\n",
      "Epoch 5/100\n",
      "800/800 [==============================] - ETA: 0s - loss: 0.5225 - accuracy: 0.9581Restoring model weights from the end of the best epoch.\n",
      "800/800 [==============================] - 420s 524ms/step - loss: 0.5225 - accuracy: 0.9581 - val_loss: 0.5389 - val_accuracy: 0.9515\n",
      "Epoch 00005: early stopping\n",
      "99/99 [==============================] - 15s 151ms/step - loss: 0.5334 - accuracy: 0.9448\n",
      "Fold 5 of 10\n",
      "Epoch 1/100\n",
      "  2/800 [..............................] - ETA: 3:21 - loss: 0.6702 - accuracy: 0.5156WARNING:tensorflow:Callbacks method `on_train_batch_end` is slow compared to the batch time (batch time: 0.1892s vs `on_train_batch_end` time: 0.3163s). Check your callbacks.\n",
      "800/800 [==============================] - 425s 532ms/step - loss: 0.5275 - accuracy: 0.9485 - val_loss: 0.5422 - val_accuracy: 0.9229\n",
      "Epoch 2/100\n",
      "800/800 [==============================] - 421s 526ms/step - loss: 0.5334 - accuracy: 0.9332 - val_loss: 0.5534 - val_accuracy: 0.8936\n",
      "Epoch 3/100\n",
      "800/800 [==============================] - 420s 525ms/step - loss: 0.5318 - accuracy: 0.9379 - val_loss: 0.5405 - val_accuracy: 0.9317\n",
      "Epoch 4/100\n",
      "800/800 [==============================] - ETA: 0s - loss: 0.5351 - accuracy: 0.9352Restoring model weights from the end of the best epoch.\n",
      "800/800 [==============================] - 420s 525ms/step - loss: 0.5351 - accuracy: 0.9352 - val_loss: 0.5578 - val_accuracy: 0.8845\n",
      "Epoch 00004: early stopping\n",
      "99/99 [==============================] - 15s 152ms/step - loss: 0.5405 - accuracy: 0.9298\n",
      "Fold 6 of 10\n",
      "Epoch 1/100\n",
      "  2/800 [..............................] - ETA: 3:22 - loss: 0.7326 - accuracy: 0.5078WARNING:tensorflow:Callbacks method `on_train_batch_end` is slow compared to the batch time (batch time: 0.1922s vs `on_train_batch_end` time: 0.3163s). Check your callbacks.\n",
      "800/800 [==============================] - 424s 531ms/step - loss: 0.5219 - accuracy: 0.9604 - val_loss: 0.5494 - val_accuracy: 0.9339\n",
      "Epoch 2/100\n",
      "800/800 [==============================] - 422s 527ms/step - loss: 0.5194 - accuracy: 0.9663 - val_loss: 0.5343 - val_accuracy: 0.9546\n",
      "Epoch 3/100\n",
      "800/800 [==============================] - 421s 526ms/step - loss: 0.5250 - accuracy: 0.9532 - val_loss: 0.5360 - val_accuracy: 0.9372\n",
      "Epoch 4/100\n",
      "800/800 [==============================] - 420s 525ms/step - loss: 0.5254 - accuracy: 0.9535 - val_loss: 0.5610 - val_accuracy: 0.8761\n",
      "Epoch 5/100\n",
      "800/800 [==============================] - ETA: 0s - loss: 0.5264 - accuracy: 0.9506Restoring model weights from the end of the best epoch.\n",
      "800/800 [==============================] - 420s 525ms/step - loss: 0.5264 - accuracy: 0.9506 - val_loss: 0.5255 - val_accuracy: 0.9690\n",
      "Epoch 00005: early stopping\n",
      "99/99 [==============================] - 15s 152ms/step - loss: 0.5351 - accuracy: 0.9543\n",
      "Fold 7 of 10\n",
      "Epoch 1/100\n",
      "  2/800 [..............................] - ETA: 3:21 - loss: 0.6496 - accuracy: 0.5117WARNING:tensorflow:Callbacks method `on_train_batch_end` is slow compared to the batch time (batch time: 0.1902s vs `on_train_batch_end` time: 0.3143s). Check your callbacks.\n",
      "800/800 [==============================] - 425s 531ms/step - loss: 0.5251 - accuracy: 0.9539 - val_loss: 0.5333 - val_accuracy: 0.9522\n",
      "Epoch 2/100\n",
      "800/800 [==============================] - 420s 525ms/step - loss: 0.5308 - accuracy: 0.9421 - val_loss: 0.5275 - val_accuracy: 0.9642\n",
      "Epoch 3/100\n",
      "800/800 [==============================] - 420s 525ms/step - loss: 0.5264 - accuracy: 0.9501 - val_loss: 0.5281 - val_accuracy: 0.9665\n",
      "Epoch 4/100\n",
      "800/800 [==============================] - ETA: 0s - loss: 0.5304 - accuracy: 0.9396Restoring model weights from the end of the best epoch.\n",
      "800/800 [==============================] - 420s 525ms/step - loss: 0.5304 - accuracy: 0.9396 - val_loss: 0.5366 - val_accuracy: 0.9408\n",
      "Epoch 00004: early stopping\n",
      "99/99 [==============================] - 15s 152ms/step - loss: 0.5334 - accuracy: 0.9531\n",
      "Fold 8 of 10\n",
      "Epoch 1/100\n",
      "  2/800 [..............................] - ETA: 3:21 - loss: 0.7163 - accuracy: 0.5234WARNING:tensorflow:Callbacks method `on_train_batch_end` is slow compared to the batch time (batch time: 0.1892s vs `on_train_batch_end` time: 0.3153s). Check your callbacks.\n",
      "800/800 [==============================] - 425s 531ms/step - loss: 0.5237 - accuracy: 0.9559 - val_loss: 0.5464 - val_accuracy: 0.9263\n",
      "Epoch 2/100\n",
      "800/800 [==============================] - 421s 527ms/step - loss: 0.5328 - accuracy: 0.9361 - val_loss: 0.5329 - val_accuracy: 0.9536\n",
      "Epoch 3/100\n",
      "800/800 [==============================] - 420s 525ms/step - loss: 0.5250 - accuracy: 0.9546 - val_loss: 0.5782 - val_accuracy: 0.8279\n",
      "Epoch 4/100\n",
      "800/800 [==============================] - 420s 525ms/step - loss: 0.5220 - accuracy: 0.9600 - val_loss: 0.5613 - val_accuracy: 0.9176\n",
      "Epoch 5/100\n",
      "800/800 [==============================] - ETA: 0s - loss: 0.5217 - accuracy: 0.9610Restoring model weights from the end of the best epoch.\n",
      "800/800 [==============================] - 421s 526ms/step - loss: 0.5217 - accuracy: 0.9610 - val_loss: 0.5281 - val_accuracy: 0.9595\n",
      "Epoch 00005: early stopping\n",
      "99/99 [==============================] - 15s 151ms/step - loss: 0.5317 - accuracy: 0.9562\n",
      "Fold 9 of 10\n",
      "Epoch 1/100\n",
      "  2/800 [..............................] - ETA: 3:21 - loss: 0.6837 - accuracy: 0.4922WARNING:tensorflow:Callbacks method `on_train_batch_end` is slow compared to the batch time (batch time: 0.1917s vs `on_train_batch_end` time: 0.3143s). Check your callbacks.\n",
      "800/800 [==============================] - 424s 530ms/step - loss: 0.5240 - accuracy: 0.9559 - val_loss: 0.5422 - val_accuracy: 0.9207\n",
      "Epoch 2/100\n",
      "800/800 [==============================] - 421s 526ms/step - loss: 0.5164 - accuracy: 0.9720 - val_loss: 0.5205 - val_accuracy: 0.9827\n",
      "Epoch 3/100\n",
      "800/800 [==============================] - 420s 525ms/step - loss: 0.5175 - accuracy: 0.9704 - val_loss: 0.5249 - val_accuracy: 0.9717\n",
      "Epoch 4/100\n",
      "800/800 [==============================] - 420s 525ms/step - loss: 0.5180 - accuracy: 0.9688 - val_loss: 0.5288 - val_accuracy: 0.9567\n",
      "Epoch 5/100\n",
      "800/800 [==============================] - ETA: 0s - loss: 0.5239 - accuracy: 0.9562Restoring model weights from the end of the best epoch.\n",
      "800/800 [==============================] - 420s 525ms/step - loss: 0.5239 - accuracy: 0.9562 - val_loss: 0.5361 - val_accuracy: 0.9379\n",
      "Epoch 00005: early stopping\n",
      "99/99 [==============================] - 15s 151ms/step - loss: 0.5234 - accuracy: 0.9762\n",
      "Fold 10 of 10\n",
      "Epoch 1/100\n",
      "  2/800 [..............................] - ETA: 3:21 - loss: 0.6914 - accuracy: 0.5039WARNING:tensorflow:Callbacks method `on_train_batch_end` is slow compared to the batch time (batch time: 0.1892s vs `on_train_batch_end` time: 0.3163s). Check your callbacks.\n",
      "800/800 [==============================] - 425s 531ms/step - loss: 0.5216 - accuracy: 0.9611 - val_loss: 0.5282 - val_accuracy: 0.9577\n",
      "Epoch 2/100\n",
      "800/800 [==============================] - 420s 526ms/step - loss: 0.5242 - accuracy: 0.9548 - val_loss: 0.5355 - val_accuracy: 0.9386\n",
      "Epoch 3/100\n",
      "800/800 [==============================] - 420s 525ms/step - loss: 0.5255 - accuracy: 0.9522 - val_loss: 0.5250 - val_accuracy: 0.9687\n",
      "Epoch 4/100\n",
      "800/800 [==============================] - ETA: 0s - loss: 0.5205 - accuracy: 0.9635Restoring model weights from the end of the best epoch.\n",
      "800/800 [==============================] - 421s 526ms/step - loss: 0.5205 - accuracy: 0.9635 - val_loss: 0.5627 - val_accuracy: 0.8843\n",
      "Epoch 00004: early stopping\n",
      "99/99 [==============================] - 15s 152ms/step - loss: 0.5312 - accuracy: 0.9509\n"
     ]
    }
   ],
   "source": [
    "k_results=pd.DataFrame(columns = ['Fold', 'Loss', 'Accuracy'])\n",
    "\n",
    "for i, k in enumerate(kFCV_sets):\n",
    "    print(\"Fold\", i+1, \"of\", len(kFCV_sets))\n",
    "\n",
    "    train_generator, test_generator, val_generator = k\n",
    "\n",
    "    #Build Model\n",
    "    model = utils.makeModel(inputShape=(150, 150, 3), modelName=modelName)\n",
    "    opt = tf.optimizers.Adam()\n",
    "    model.compile(\n",
    "        optimizer = opt,\n",
    "        loss = keras.losses.BinaryCrossentropy(from_logits = True),\n",
    "        metrics = [\"accuracy\"]\n",
    "    )\n",
    "\n",
    "    #Fit data  \n",
    "    model.fit(\n",
    "        train_generator,\n",
    "        validation_data=val_generator,\n",
    "        callbacks = utils.callbacks,\n",
    "        epochs = 100,\n",
    "        class_weight = weights_dict,\n",
    "        max_queue_size = 10,\n",
    "        workers = os.cpu_count(),\n",
    "    )\n",
    "\n",
    "    #Test accuracy\n",
    "    results = model.evaluate(\n",
    "        test_generator,\n",
    "        max_queue_size = 10,\n",
    "        workers = os.cpu_count(),\n",
    "    )\n",
    "\n",
    "    k_results = k_results.append({'Fold':i+1, 'Loss':results[0], 'Accuracy':results[1]}, ignore_index=True)\n",
    "    \n",
    "    if i == 0:\n",
    "        # Write the summary to a file\n",
    "        with open(f'Results/{modelName}Summary.txt', 'w') as f:\n",
    "            with redirect_stdout(f):\n",
    "                print(model.summary())\n",
    "        #Save the model\n",
    "        model.save(f'Models/{modelName}')\n",
    "        \n",
    "    keras.backend.clear_session() \n",
    "\n",
    "k_results = k_results.append({'Fold':\"Avg\", 'Loss':np.average(k_results['Loss']), 'Accuracy':np.average(k_results['Accuracy'])}, ignore_index=True)"
   ]
  },
  {
   "cell_type": "code",
   "execution_count": 9,
   "metadata": {},
   "outputs": [],
   "source": [
    "if n_folds != 1:\n",
    "    k_results.to_csv(f'Results/k-fcv_{modelName}.csv')"
   ]
  }
 ],
 "metadata": {
  "kernelspec": {
   "display_name": "csc790",
   "language": "python",
   "name": "csc790"
  },
  "language_info": {
   "codemirror_mode": {
    "name": "ipython",
    "version": 3
   },
   "file_extension": ".py",
   "mimetype": "text/x-python",
   "name": "python",
   "nbconvert_exporter": "python",
   "pygments_lexer": "ipython3",
   "version": "3.8.5"
  }
 },
 "nbformat": 4,
 "nbformat_minor": 4
}
