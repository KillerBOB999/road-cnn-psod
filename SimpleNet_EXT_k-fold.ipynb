{
 "cells": [
  {
   "cell_type": "code",
   "execution_count": 1,
   "metadata": {},
   "outputs": [],
   "source": [
    "import numpy as np\n",
    "import pandas as pd\n",
    "\n",
    "import tensorflow as tf\n",
    "from tensorflow import keras\n",
    "from tensorflow.random import set_seed\n",
    "\n",
    "from tqdm import tqdm\n",
    "from contextlib import redirect_stdout\n",
    "import os\n",
    "\n",
    "import utils"
   ]
  },
  {
   "cell_type": "code",
   "execution_count": 2,
   "metadata": {},
   "outputs": [],
   "source": [
    "# Define a model name for repeated use\n",
    "modelName = \"SimpleNet\"\n",
    "n_folds = 10 # 1 = normal experiment\n",
    "batch_size = 128 # 128 is default across the models"
   ]
  },
  {
   "cell_type": "code",
   "execution_count": 3,
   "metadata": {},
   "outputs": [],
   "source": [
    "#Seeding random state to 13 always, for reproducibility\n",
    "np.random.seed(utils.seed)\n",
    "set_seed(utils.seed)"
   ]
  },
  {
   "cell_type": "code",
   "execution_count": 4,
   "metadata": {},
   "outputs": [
    {
     "name": "stdout",
     "output_type": "stream",
     "text": [
      "gpus: [PhysicalDevice(name='/physical_device:GPU:0', device_type='GPU')]\n",
      "1 Physical GPU, 1 Logical GPUs\n"
     ]
    }
   ],
   "source": [
    "### Used to select GPU 0=first device, 1=second device, etc...\n",
    "os.environ[\"CUDA_VISIBLE_DEVICES\"]=\"0\"\n",
    "\n",
    "gpus = tf.config.experimental.list_physical_devices('GPU')\n",
    "print('gpus:',gpus)\n",
    "if gpus:\n",
    "    try:\n",
    "        tf.config.experimental.set_visible_devices(gpus[0], 'GPU')\n",
    "        tf.config.experimental.set_memory_growth(gpus[0], True)\n",
    "        logical_gpus = tf.config.experimental.list_logical_devices('GPU')\n",
    "        print(len(gpus), \"Physical GPU,\", len(logical_gpus), \"Logical GPUs\")\n",
    "    except RuntimeError as e:\n",
    "        # Virtual devices must be set before GPUs have been initialized\n",
    "        print(e)"
   ]
  },
  {
   "cell_type": "code",
   "execution_count": 5,
   "metadata": {},
   "outputs": [
    {
     "name": "stderr",
     "output_type": "stream",
     "text": [
      "94493it [00:00, 862212.52it/s]\n",
      "94493it [00:00, 1419721.77it/s]\n",
      "31825it [00:00, 859399.99it/s]\n",
      "31825it [00:00, 1551108.27it/s]\n"
     ]
    }
   ],
   "source": [
    "dataset = utils.makeDataset(pathFromCwdToDataRoot=\"Data\")"
   ]
  },
  {
   "cell_type": "code",
   "execution_count": 6,
   "metadata": {},
   "outputs": [
    {
     "name": "stderr",
     "output_type": "stream",
     "text": [
      "C:\\Users\\music\\anaconda3\\envs\\csc790\\lib\\site-packages\\keras_preprocessing\\image\\image_data_generator.py:356: UserWarning: This ImageDataGenerator specifies `samplewise_std_normalization`, which overrides setting of `samplewise_center`.\n",
      "  warnings.warn('This ImageDataGenerator specifies '\n"
     ]
    },
    {
     "name": "stdout",
     "output_type": "stream",
     "text": [
      "Found 102315 non-validated image filenames belonging to 2 classes.\n"
     ]
    },
    {
     "name": "stderr",
     "output_type": "stream",
     "text": [
      "C:\\Users\\music\\anaconda3\\envs\\csc790\\lib\\site-packages\\keras_preprocessing\\image\\image_data_generator.py:356: UserWarning: This ImageDataGenerator specifies `samplewise_std_normalization`, which overrides setting of `samplewise_center`.\n",
      "  warnings.warn('This ImageDataGenerator specifies '\n",
      "C:\\Users\\music\\anaconda3\\envs\\csc790\\lib\\site-packages\\keras_preprocessing\\image\\image_data_generator.py:356: UserWarning: This ImageDataGenerator specifies `samplewise_std_normalization`, which overrides setting of `samplewise_center`.\n",
      "  warnings.warn('This ImageDataGenerator specifies '\n"
     ]
    },
    {
     "name": "stdout",
     "output_type": "stream",
     "text": [
      "Found 12633 non-validated image filenames belonging to 2 classes.\n",
      "Found 11370 non-validated image filenames belonging to 2 classes.\n",
      "\n",
      "Found 102315 non-validated image filenames belonging to 2 classes.\n"
     ]
    },
    {
     "name": "stderr",
     "output_type": "stream",
     "text": [
      "C:\\Users\\music\\anaconda3\\envs\\csc790\\lib\\site-packages\\keras_preprocessing\\image\\image_data_generator.py:356: UserWarning: This ImageDataGenerator specifies `samplewise_std_normalization`, which overrides setting of `samplewise_center`.\n",
      "  warnings.warn('This ImageDataGenerator specifies '\n",
      "C:\\Users\\music\\anaconda3\\envs\\csc790\\lib\\site-packages\\keras_preprocessing\\image\\image_data_generator.py:356: UserWarning: This ImageDataGenerator specifies `samplewise_std_normalization`, which overrides setting of `samplewise_center`.\n",
      "  warnings.warn('This ImageDataGenerator specifies '\n"
     ]
    },
    {
     "name": "stdout",
     "output_type": "stream",
     "text": [
      "Found 12633 non-validated image filenames belonging to 2 classes.\n",
      "Found 11370 non-validated image filenames belonging to 2 classes.\n",
      "\n",
      "Found 102315 non-validated image filenames belonging to 2 classes.\n"
     ]
    },
    {
     "name": "stderr",
     "output_type": "stream",
     "text": [
      "C:\\Users\\music\\anaconda3\\envs\\csc790\\lib\\site-packages\\keras_preprocessing\\image\\image_data_generator.py:356: UserWarning: This ImageDataGenerator specifies `samplewise_std_normalization`, which overrides setting of `samplewise_center`.\n",
      "  warnings.warn('This ImageDataGenerator specifies '\n",
      "C:\\Users\\music\\anaconda3\\envs\\csc790\\lib\\site-packages\\keras_preprocessing\\image\\image_data_generator.py:356: UserWarning: This ImageDataGenerator specifies `samplewise_std_normalization`, which overrides setting of `samplewise_center`.\n",
      "  warnings.warn('This ImageDataGenerator specifies '\n"
     ]
    },
    {
     "name": "stdout",
     "output_type": "stream",
     "text": [
      "Found 12633 non-validated image filenames belonging to 2 classes.\n",
      "Found 11370 non-validated image filenames belonging to 2 classes.\n",
      "\n",
      "Found 102315 non-validated image filenames belonging to 2 classes.\n"
     ]
    },
    {
     "name": "stderr",
     "output_type": "stream",
     "text": [
      "C:\\Users\\music\\anaconda3\\envs\\csc790\\lib\\site-packages\\keras_preprocessing\\image\\image_data_generator.py:356: UserWarning: This ImageDataGenerator specifies `samplewise_std_normalization`, which overrides setting of `samplewise_center`.\n",
      "  warnings.warn('This ImageDataGenerator specifies '\n",
      "C:\\Users\\music\\anaconda3\\envs\\csc790\\lib\\site-packages\\keras_preprocessing\\image\\image_data_generator.py:356: UserWarning: This ImageDataGenerator specifies `samplewise_std_normalization`, which overrides setting of `samplewise_center`.\n",
      "  warnings.warn('This ImageDataGenerator specifies '\n"
     ]
    },
    {
     "name": "stdout",
     "output_type": "stream",
     "text": [
      "Found 12633 non-validated image filenames belonging to 2 classes.\n",
      "Found 11370 non-validated image filenames belonging to 2 classes.\n",
      "\n",
      "Found 102315 non-validated image filenames belonging to 2 classes.\n"
     ]
    },
    {
     "name": "stderr",
     "output_type": "stream",
     "text": [
      "C:\\Users\\music\\anaconda3\\envs\\csc790\\lib\\site-packages\\keras_preprocessing\\image\\image_data_generator.py:356: UserWarning: This ImageDataGenerator specifies `samplewise_std_normalization`, which overrides setting of `samplewise_center`.\n",
      "  warnings.warn('This ImageDataGenerator specifies '\n",
      "C:\\Users\\music\\anaconda3\\envs\\csc790\\lib\\site-packages\\keras_preprocessing\\image\\image_data_generator.py:356: UserWarning: This ImageDataGenerator specifies `samplewise_std_normalization`, which overrides setting of `samplewise_center`.\n",
      "  warnings.warn('This ImageDataGenerator specifies '\n"
     ]
    },
    {
     "name": "stdout",
     "output_type": "stream",
     "text": [
      "Found 12633 non-validated image filenames belonging to 2 classes.\n",
      "Found 11370 non-validated image filenames belonging to 2 classes.\n",
      "\n",
      "Found 102315 non-validated image filenames belonging to 2 classes.\n"
     ]
    },
    {
     "name": "stderr",
     "output_type": "stream",
     "text": [
      "C:\\Users\\music\\anaconda3\\envs\\csc790\\lib\\site-packages\\keras_preprocessing\\image\\image_data_generator.py:356: UserWarning: This ImageDataGenerator specifies `samplewise_std_normalization`, which overrides setting of `samplewise_center`.\n",
      "  warnings.warn('This ImageDataGenerator specifies '\n",
      "C:\\Users\\music\\anaconda3\\envs\\csc790\\lib\\site-packages\\keras_preprocessing\\image\\image_data_generator.py:356: UserWarning: This ImageDataGenerator specifies `samplewise_std_normalization`, which overrides setting of `samplewise_center`.\n",
      "  warnings.warn('This ImageDataGenerator specifies '\n"
     ]
    },
    {
     "name": "stdout",
     "output_type": "stream",
     "text": [
      "Found 12633 non-validated image filenames belonging to 2 classes.\n",
      "Found 11370 non-validated image filenames belonging to 2 classes.\n",
      "\n",
      "Found 102315 non-validated image filenames belonging to 2 classes.\n"
     ]
    },
    {
     "name": "stderr",
     "output_type": "stream",
     "text": [
      "C:\\Users\\music\\anaconda3\\envs\\csc790\\lib\\site-packages\\keras_preprocessing\\image\\image_data_generator.py:356: UserWarning: This ImageDataGenerator specifies `samplewise_std_normalization`, which overrides setting of `samplewise_center`.\n",
      "  warnings.warn('This ImageDataGenerator specifies '\n",
      "C:\\Users\\music\\anaconda3\\envs\\csc790\\lib\\site-packages\\keras_preprocessing\\image\\image_data_generator.py:356: UserWarning: This ImageDataGenerator specifies `samplewise_std_normalization`, which overrides setting of `samplewise_center`.\n",
      "  warnings.warn('This ImageDataGenerator specifies '\n"
     ]
    },
    {
     "name": "stdout",
     "output_type": "stream",
     "text": [
      "Found 12633 non-validated image filenames belonging to 2 classes.\n",
      "Found 11370 non-validated image filenames belonging to 2 classes.\n",
      "\n",
      "Found 102315 non-validated image filenames belonging to 2 classes.\n"
     ]
    },
    {
     "name": "stderr",
     "output_type": "stream",
     "text": [
      "C:\\Users\\music\\anaconda3\\envs\\csc790\\lib\\site-packages\\keras_preprocessing\\image\\image_data_generator.py:356: UserWarning: This ImageDataGenerator specifies `samplewise_std_normalization`, which overrides setting of `samplewise_center`.\n",
      "  warnings.warn('This ImageDataGenerator specifies '\n",
      "C:\\Users\\music\\anaconda3\\envs\\csc790\\lib\\site-packages\\keras_preprocessing\\image\\image_data_generator.py:356: UserWarning: This ImageDataGenerator specifies `samplewise_std_normalization`, which overrides setting of `samplewise_center`.\n",
      "  warnings.warn('This ImageDataGenerator specifies '\n"
     ]
    },
    {
     "name": "stdout",
     "output_type": "stream",
     "text": [
      "Found 12633 non-validated image filenames belonging to 2 classes.\n",
      "Found 11370 non-validated image filenames belonging to 2 classes.\n",
      "\n",
      "Found 102315 non-validated image filenames belonging to 2 classes.\n"
     ]
    },
    {
     "name": "stderr",
     "output_type": "stream",
     "text": [
      "C:\\Users\\music\\anaconda3\\envs\\csc790\\lib\\site-packages\\keras_preprocessing\\image\\image_data_generator.py:356: UserWarning: This ImageDataGenerator specifies `samplewise_std_normalization`, which overrides setting of `samplewise_center`.\n",
      "  warnings.warn('This ImageDataGenerator specifies '\n",
      "C:\\Users\\music\\anaconda3\\envs\\csc790\\lib\\site-packages\\keras_preprocessing\\image\\image_data_generator.py:356: UserWarning: This ImageDataGenerator specifies `samplewise_std_normalization`, which overrides setting of `samplewise_center`.\n",
      "  warnings.warn('This ImageDataGenerator specifies '\n"
     ]
    },
    {
     "name": "stdout",
     "output_type": "stream",
     "text": [
      "Found 12633 non-validated image filenames belonging to 2 classes.\n",
      "Found 11370 non-validated image filenames belonging to 2 classes.\n",
      "\n",
      "Found 102315 non-validated image filenames belonging to 2 classes.\n",
      "Found 12633 non-validated image filenames belonging to 2 classes.\n",
      "Found 11370 non-validated image filenames belonging to 2 classes.\n",
      "\n"
     ]
    },
    {
     "name": "stderr",
     "output_type": "stream",
     "text": [
      "C:\\Users\\music\\anaconda3\\envs\\csc790\\lib\\site-packages\\keras_preprocessing\\image\\image_data_generator.py:356: UserWarning: This ImageDataGenerator specifies `samplewise_std_normalization`, which overrides setting of `samplewise_center`.\n",
      "  warnings.warn('This ImageDataGenerator specifies '\n"
     ]
    }
   ],
   "source": [
    "kFCV_sets, weights_dict = utils.makeFolds(dataset=dataset, n_folds=n_folds, batch_size=batch_size)"
   ]
  },
  {
   "cell_type": "code",
   "execution_count": 7,
   "metadata": {},
   "outputs": [
    {
     "name": "stdout",
     "output_type": "stream",
     "text": [
      "{0: 0.9585261658953365, 1: 1.045225155279503}\n"
     ]
    }
   ],
   "source": [
    "print(weights_dict)"
   ]
  },
  {
   "cell_type": "code",
   "execution_count": 8,
   "metadata": {},
   "outputs": [
    {
     "name": "stdout",
     "output_type": "stream",
     "text": [
      "Fold 1 of 10\n",
      "Epoch 1/100\n",
      "800/800 [==============================] - 50s 62ms/step - loss: 0.5865 - accuracy: 0.8211 - val_loss: 0.5710 - val_accuracy: 0.8698\n",
      "Epoch 2/100\n",
      "800/800 [==============================] - 50s 62ms/step - loss: 0.5608 - accuracy: 0.8716 - val_loss: 0.5588 - val_accuracy: 0.8916\n",
      "Epoch 3/100\n",
      "800/800 [==============================] - 51s 64ms/step - loss: 0.5561 - accuracy: 0.8822 - val_loss: 0.5567 - val_accuracy: 0.8967\n",
      "Epoch 4/100\n",
      "800/800 [==============================] - 50s 62ms/step - loss: 0.5536 - accuracy: 0.8881 - val_loss: 0.5569 - val_accuracy: 0.9004\n",
      "Epoch 5/100\n",
      "800/800 [==============================] - ETA: 0s - loss: 0.5518 - accuracy: 0.8918Restoring model weights from the end of the best epoch.\n",
      "800/800 [==============================] - 49s 62ms/step - loss: 0.5518 - accuracy: 0.8918 - val_loss: 0.5523 - val_accuracy: 0.9045\n",
      "Epoch 00005: early stopping\n",
      "99/99 [==============================] - 5s 46ms/step - loss: 0.5602 - accuracy: 0.8882\n",
      "WARNING:tensorflow:From C:\\Users\\music\\anaconda3\\envs\\csc790\\lib\\site-packages\\tensorflow\\python\\training\\tracking\\tracking.py:111: Model.state_updates (from tensorflow.python.keras.engine.training) is deprecated and will be removed in a future version.\n",
      "Instructions for updating:\n",
      "This property should not be used in TensorFlow 2.0, as updates are applied automatically.\n",
      "WARNING:tensorflow:From C:\\Users\\music\\anaconda3\\envs\\csc790\\lib\\site-packages\\tensorflow\\python\\training\\tracking\\tracking.py:111: Layer.updates (from tensorflow.python.keras.engine.base_layer) is deprecated and will be removed in a future version.\n",
      "Instructions for updating:\n",
      "This property should not be used in TensorFlow 2.0, as updates are applied automatically.\n",
      "INFO:tensorflow:Assets written to: Models/SimpleNet\\assets\n",
      "Fold 2 of 10\n",
      "Epoch 1/100\n",
      "800/800 [==============================] - 51s 63ms/step - loss: 0.5846 - accuracy: 0.8263 - val_loss: 0.5711 - val_accuracy: 0.8662\n",
      "Epoch 2/100\n",
      "800/800 [==============================] - 50s 62ms/step - loss: 0.5607 - accuracy: 0.8719 - val_loss: 0.5597 - val_accuracy: 0.8898\n",
      "Epoch 3/100\n",
      "800/800 [==============================] - 50s 62ms/step - loss: 0.5556 - accuracy: 0.8836 - val_loss: 0.5558 - val_accuracy: 0.8979\n",
      "Epoch 4/100\n",
      "800/800 [==============================] - 50s 62ms/step - loss: 0.5536 - accuracy: 0.8883 - val_loss: 0.5556 - val_accuracy: 0.9027\n",
      "Epoch 5/100\n",
      "798/800 [============================>.] - ETA: 0s - loss: 0.5517 - accuracy: 0.8927Restoring model weights from the end of the best epoch.\n",
      "800/800 [==============================] - 50s 63ms/step - loss: 0.5517 - accuracy: 0.8927 - val_loss: 0.5544 - val_accuracy: 0.8987\n",
      "Epoch 00005: early stopping\n",
      "99/99 [==============================] - 5s 46ms/step - loss: 0.5598 - accuracy: 0.8904 1s - loss:\n",
      "Fold 3 of 10\n",
      "Epoch 1/100\n",
      "800/800 [==============================] - 50s 62ms/step - loss: 0.5855 - accuracy: 0.8237 - val_loss: 0.5675 - val_accuracy: 0.8692\n",
      "Epoch 2/100\n",
      "800/800 [==============================] - 50s 62ms/step - loss: 0.5607 - accuracy: 0.8712 - val_loss: 0.5580 - val_accuracy: 0.8941\n",
      "Epoch 3/100\n",
      "800/800 [==============================] - 50s 62ms/step - loss: 0.5562 - accuracy: 0.8818 - val_loss: 0.5555 - val_accuracy: 0.8958\n",
      "Epoch 4/100\n",
      "800/800 [==============================] - 50s 62ms/step - loss: 0.5537 - accuracy: 0.8878 - val_loss: 0.5539 - val_accuracy: 0.9028\n",
      "Epoch 5/100\n",
      "800/800 [==============================] - 50s 63ms/step - loss: 0.5516 - accuracy: 0.8929 - val_loss: 0.5509 - val_accuracy: 0.9136\n",
      "Epoch 6/100\n",
      "798/800 [============================>.] - ETA: 0s - loss: 0.5509 - accuracy: 0.8941Restoring model weights from the end of the best epoch.\n",
      "800/800 [==============================] - 51s 63ms/step - loss: 0.5508 - accuracy: 0.8942 - val_loss: 0.5508 - val_accuracy: 0.9094\n",
      "Epoch 00006: early stopping\n",
      "99/99 [==============================] - 5s 49ms/step - loss: 0.5572 - accuracy: 0.8921\n",
      "Fold 4 of 10\n",
      "Epoch 1/100\n",
      "800/800 [==============================] - 52s 65ms/step - loss: 0.5846 - accuracy: 0.8252 - val_loss: 0.5658 - val_accuracy: 0.8738\n",
      "Epoch 2/100\n",
      "800/800 [==============================] - 51s 64ms/step - loss: 0.5605 - accuracy: 0.8712 - val_loss: 0.5604 - val_accuracy: 0.8899\n",
      "Epoch 3/100\n",
      "800/800 [==============================] - 52s 65ms/step - loss: 0.5558 - accuracy: 0.8833 - val_loss: 0.5557 - val_accuracy: 0.8972\n",
      "Epoch 4/100\n",
      "800/800 [==============================] - 54s 67ms/step - loss: 0.5537 - accuracy: 0.8880 - val_loss: 0.5572 - val_accuracy: 0.8887\n",
      "Epoch 5/100\n",
      "800/800 [==============================] - 54s 67ms/step - loss: 0.5518 - accuracy: 0.8929 - val_loss: 0.5529 - val_accuracy: 0.9052\n",
      "Epoch 6/100\n",
      "800/800 [==============================] - ETA: 0s - loss: 0.5502 - accuracy: 0.8962Restoring model weights from the end of the best epoch.\n",
      "800/800 [==============================] - 54s 67ms/step - loss: 0.5502 - accuracy: 0.8962 - val_loss: 0.5491 - val_accuracy: 0.9152\n",
      "Epoch 00006: early stopping\n",
      "99/99 [==============================] - 5s 51ms/step - loss: 0.5571 - accuracy: 0.8946\n",
      "Fold 5 of 10\n",
      "Epoch 1/100\n",
      "800/800 [==============================] - 53s 66ms/step - loss: 0.5842 - accuracy: 0.8264 - val_loss: 0.5673 - val_accuracy: 0.8670\n",
      "Epoch 2/100\n",
      "800/800 [==============================] - 53s 66ms/step - loss: 0.5604 - accuracy: 0.8720 - val_loss: 0.5604 - val_accuracy: 0.8909\n",
      "Epoch 3/100\n",
      "800/800 [==============================] - 52s 65ms/step - loss: 0.5560 - accuracy: 0.8823 - val_loss: 0.5548 - val_accuracy: 0.9005\n",
      "Epoch 4/100\n",
      "800/800 [==============================] - 52s 65ms/step - loss: 0.5537 - accuracy: 0.8881 - val_loss: 0.5538 - val_accuracy: 0.9073\n",
      "Epoch 5/100\n",
      "800/800 [==============================] - 51s 64ms/step - loss: 0.5519 - accuracy: 0.8919 - val_loss: 0.5524 - val_accuracy: 0.9091\n",
      "Epoch 6/100\n",
      "797/800 [============================>.] - ETA: 0s - loss: 0.5507 - accuracy: 0.8952Restoring model weights from the end of the best epoch.\n",
      "800/800 [==============================] - 51s 64ms/step - loss: 0.5507 - accuracy: 0.8951 - val_loss: 0.5516 - val_accuracy: 0.9164\n",
      "Epoch 00006: early stopping\n",
      "99/99 [==============================] - 5s 48ms/step - loss: 0.5567 - accuracy: 0.8966\n",
      "Fold 6 of 10\n",
      "Epoch 1/100\n",
      "800/800 [==============================] - 52s 65ms/step - loss: 0.5865 - accuracy: 0.8196 - val_loss: 0.5648 - val_accuracy: 0.8761\n",
      "Epoch 2/100\n",
      "800/800 [==============================] - 52s 65ms/step - loss: 0.5617 - accuracy: 0.8693 - val_loss: 0.5608 - val_accuracy: 0.8869\n",
      "Epoch 3/100\n",
      "800/800 [==============================] - 52s 65ms/step - loss: 0.5569 - accuracy: 0.8802 - val_loss: 0.5578 - val_accuracy: 0.8960\n",
      "Epoch 4/100\n",
      "800/800 [==============================] - 52s 65ms/step - loss: 0.5543 - accuracy: 0.8866 - val_loss: 0.5545 - val_accuracy: 0.9014\n",
      "Epoch 5/100\n",
      "800/800 [==============================] - 52s 65ms/step - loss: 0.5525 - accuracy: 0.8912 - val_loss: 0.5532 - val_accuracy: 0.9051\n",
      "Epoch 6/100\n",
      "800/800 [==============================] - 52s 65ms/step - loss: 0.5513 - accuracy: 0.8933 - val_loss: 0.5520 - val_accuracy: 0.9071\n",
      "Epoch 7/100\n",
      "800/800 [==============================] - ETA: 0s - loss: 0.5503 - accuracy: 0.8959Restoring model weights from the end of the best epoch.\n",
      "800/800 [==============================] - 52s 65ms/step - loss: 0.5503 - accuracy: 0.8959 - val_loss: 0.5517 - val_accuracy: 0.9083\n",
      "Epoch 00007: early stopping\n",
      "99/99 [==============================] - 5s 48ms/step - loss: 0.5567 - accuracy: 0.8968\n",
      "Fold 7 of 10\n",
      "Epoch 1/100\n",
      "800/800 [==============================] - 56s 70ms/step - loss: 0.5834 - accuracy: 0.8274 - val_loss: 0.5653 - val_accuracy: 0.8766\n",
      "Epoch 2/100\n",
      "800/800 [==============================] - 55s 69ms/step - loss: 0.5599 - accuracy: 0.8735 - val_loss: 0.5590 - val_accuracy: 0.8926\n",
      "Epoch 3/100\n",
      "800/800 [==============================] - 55s 69ms/step - loss: 0.5557 - accuracy: 0.8832 - val_loss: 0.5579 - val_accuracy: 0.8994\n",
      "Epoch 4/100\n",
      "800/800 [==============================] - 55s 69ms/step - loss: 0.5532 - accuracy: 0.8890 - val_loss: 0.5541 - val_accuracy: 0.9015\n",
      "Epoch 5/100\n",
      "800/800 [==============================] - 55s 68ms/step - loss: 0.5519 - accuracy: 0.8922 - val_loss: 0.5504 - val_accuracy: 0.9127\n",
      "Epoch 6/100\n",
      "800/800 [==============================] - 55s 69ms/step - loss: 0.5506 - accuracy: 0.8948 - val_loss: 0.5506 - val_accuracy: 0.9100\n",
      "Epoch 7/100\n",
      "799/800 [============================>.] - ETA: 0s - loss: 0.5501 - accuracy: 0.8963Restoring model weights from the end of the best epoch.\n",
      "800/800 [==============================] - 55s 69ms/step - loss: 0.5500 - accuracy: 0.8964 - val_loss: 0.5494 - val_accuracy: 0.9117\n",
      "Epoch 00007: early stopping\n",
      "99/99 [==============================] - 5s 51ms/step - loss: 0.5567 - accuracy: 0.8958\n",
      "Fold 8 of 10\n",
      "Epoch 1/100\n",
      "800/800 [==============================] - 53s 67ms/step - loss: 0.5834 - accuracy: 0.8260 - val_loss: 0.5653 - val_accuracy: 0.8772\n",
      "Epoch 2/100\n",
      "800/800 [==============================] - 53s 67ms/step - loss: 0.5603 - accuracy: 0.8729 - val_loss: 0.5611 - val_accuracy: 0.8870\n",
      "Epoch 3/100\n",
      "800/800 [==============================] - 54s 68ms/step - loss: 0.5567 - accuracy: 0.8808 - val_loss: 0.5570 - val_accuracy: 0.8973\n",
      "Epoch 4/100\n",
      "800/800 [==============================] - 53s 66ms/step - loss: 0.5543 - accuracy: 0.8864 - val_loss: 0.5531 - val_accuracy: 0.9065\n",
      "Epoch 5/100\n",
      "800/800 [==============================] - 52s 66ms/step - loss: 0.5525 - accuracy: 0.8903 - val_loss: 0.5530 - val_accuracy: 0.9014\n",
      "Epoch 6/100\n",
      "800/800 [==============================] - 53s 66ms/step - loss: 0.5514 - accuracy: 0.8928 - val_loss: 0.5511 - val_accuracy: 0.9101\n",
      "Epoch 7/100\n",
      "798/800 [============================>.] - ETA: 0s - loss: 0.5505 - accuracy: 0.8955Restoring model weights from the end of the best epoch.\n",
      "800/800 [==============================] - 53s 66ms/step - loss: 0.5504 - accuracy: 0.8956 - val_loss: 0.5534 - val_accuracy: 0.9078\n",
      "Epoch 00007: early stopping\n",
      "99/99 [==============================] - 5s 50ms/step - loss: 0.5548 - accuracy: 0.9032\n",
      "Fold 9 of 10\n",
      "Epoch 1/100\n",
      "800/800 [==============================] - 53s 66ms/step - loss: 0.5879 - accuracy: 0.8187 - val_loss: 0.5659 - val_accuracy: 0.8746\n",
      "Epoch 2/100\n",
      "800/800 [==============================] - 52s 65ms/step - loss: 0.5604 - accuracy: 0.8727 - val_loss: 0.5589 - val_accuracy: 0.8906\n",
      "Epoch 3/100\n",
      "800/800 [==============================] - 52s 65ms/step - loss: 0.5561 - accuracy: 0.8825 - val_loss: 0.5564 - val_accuracy: 0.8984\n",
      "Epoch 4/100\n",
      "800/800 [==============================] - 52s 65ms/step - loss: 0.5536 - accuracy: 0.8874 - val_loss: 0.5534 - val_accuracy: 0.9055\n",
      "Epoch 5/100\n",
      "800/800 [==============================] - 52s 65ms/step - loss: 0.5520 - accuracy: 0.8916 - val_loss: 0.5515 - val_accuracy: 0.9108\n",
      "Epoch 6/100\n",
      "800/800 [==============================] - 52s 65ms/step - loss: 0.5507 - accuracy: 0.8947 - val_loss: 0.5504 - val_accuracy: 0.9077\n",
      "Epoch 7/100\n",
      "799/800 [============================>.] - ETA: 0s - loss: 0.5494 - accuracy: 0.8976Restoring model weights from the end of the best epoch.\n",
      "800/800 [==============================] - 52s 65ms/step - loss: 0.5494 - accuracy: 0.8976 - val_loss: 0.5513 - val_accuracy: 0.9109\n",
      "Epoch 00007: early stopping\n",
      "99/99 [==============================] - 5s 49ms/step - loss: 0.5551 - accuracy: 0.9022\n",
      "Fold 10 of 10\n",
      "Epoch 1/100\n",
      "800/800 [==============================] - 55s 68ms/step - loss: 0.5838 - accuracy: 0.8283 - val_loss: 0.5675 - val_accuracy: 0.8705\n",
      "Epoch 2/100\n",
      "800/800 [==============================] - 53s 67ms/step - loss: 0.5606 - accuracy: 0.8712 - val_loss: 0.5608 - val_accuracy: 0.8847\n",
      "Epoch 3/100\n",
      "800/800 [==============================] - 54s 67ms/step - loss: 0.5566 - accuracy: 0.8800 - val_loss: 0.5573 - val_accuracy: 0.8948\n",
      "Epoch 4/100\n",
      "800/800 [==============================] - 54s 67ms/step - loss: 0.5540 - accuracy: 0.8873 - val_loss: 0.5544 - val_accuracy: 0.9027\n",
      "Epoch 5/100\n",
      "800/800 [==============================] - 53s 67ms/step - loss: 0.5524 - accuracy: 0.8910 - val_loss: 0.5560 - val_accuracy: 0.9020\n",
      "Epoch 6/100\n",
      "799/800 [============================>.] - ETA: 0s - loss: 0.5514 - accuracy: 0.8935Restoring model weights from the end of the best epoch.\n",
      "800/800 [==============================] - 53s 66ms/step - loss: 0.5514 - accuracy: 0.8935 - val_loss: 0.5515 - val_accuracy: 0.9102\n",
      "Epoch 00006: early stopping\n",
      "99/99 [==============================] - 5s 49ms/step - loss: 0.5583 - accuracy: 0.8916\n"
     ]
    }
   ],
   "source": [
    "k_results=pd.DataFrame(columns = ['Fold', 'Loss', 'Accuracy'])\n",
    "\n",
    "for i, k in enumerate(kFCV_sets):\n",
    "    print(\"Fold\", i+1, \"of\", len(kFCV_sets))\n",
    "\n",
    "    train_generator, test_generator, val_generator = k\n",
    "\n",
    "    #Build Model\n",
    "    model = utils.makeModel(inputShape=(150, 150, 3), modelName=modelName)\n",
    "    opt = tf.optimizers.Adam()\n",
    "    model.compile(\n",
    "        optimizer = opt,\n",
    "        loss = keras.losses.BinaryCrossentropy(from_logits = True),\n",
    "        metrics = [\"accuracy\"]\n",
    "    )\n",
    "\n",
    "    #Fit data  \n",
    "    model.fit(\n",
    "        train_generator,\n",
    "        validation_data=val_generator,\n",
    "        callbacks = utils.callbacks,\n",
    "        epochs = 100,\n",
    "        class_weight = weights_dict,\n",
    "        max_queue_size = 10,\n",
    "        workers = os.cpu_count(),\n",
    "    )\n",
    "\n",
    "    #Test accuracy\n",
    "    results = model.evaluate(\n",
    "        test_generator,\n",
    "        max_queue_size = 10,\n",
    "        workers = os.cpu_count(),\n",
    "    )\n",
    "\n",
    "    k_results = k_results.append({'Fold':i+1, 'Loss':results[0], 'Accuracy':results[1]}, ignore_index=True)\n",
    "    \n",
    "    if i == 0:\n",
    "        # Write the summary to a file\n",
    "        with open(f'Results/{modelName}Summary.txt', 'w') as f:\n",
    "            with redirect_stdout(f):\n",
    "                print(model.summary())\n",
    "        #Save the model\n",
    "        model.save(f'Models/{modelName}')\n",
    "    \n",
    "    keras.backend.clear_session()\n",
    "\n",
    "k_results = k_results.append({'Fold':\"Avg\", 'Loss':np.average(k_results['Loss']), 'Accuracy':np.average(k_results['Accuracy'])}, ignore_index=True)"
   ]
  },
  {
   "cell_type": "code",
   "execution_count": 9,
   "metadata": {},
   "outputs": [],
   "source": [
    "if n_folds != 1:\n",
    "    k_results.to_csv(f'Results/k-fcv_{modelName}.csv')"
   ]
  }
 ],
 "metadata": {
  "kernelspec": {
   "display_name": "csc790",
   "language": "python",
   "name": "csc790"
  },
  "language_info": {
   "codemirror_mode": {
    "name": "ipython",
    "version": 3
   },
   "file_extension": ".py",
   "mimetype": "text/x-python",
   "name": "python",
   "nbconvert_exporter": "python",
   "pygments_lexer": "ipython3",
   "version": "3.8.5"
  }
 },
 "nbformat": 4,
 "nbformat_minor": 4
}
