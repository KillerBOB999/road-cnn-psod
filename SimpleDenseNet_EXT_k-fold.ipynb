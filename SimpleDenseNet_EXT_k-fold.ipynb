{
 "cells": [
  {
   "cell_type": "code",
   "execution_count": 1,
   "metadata": {},
   "outputs": [],
   "source": [
    "import numpy as np\n",
    "import pandas as pd\n",
    "\n",
    "import tensorflow as tf\n",
    "from tensorflow import keras\n",
    "from tensorflow.random import set_seed\n",
    "\n",
    "from tqdm import tqdm\n",
    "from contextlib import redirect_stdout\n",
    "import os\n",
    "\n",
    "import utils"
   ]
  },
  {
   "cell_type": "code",
   "execution_count": 2,
   "metadata": {},
   "outputs": [],
   "source": [
    "# Define a model name for repeated use\n",
    "modelName = \"SimpleDenseNet\"\n",
    "n_folds = 10 # 1 = normal experiment\n",
    "batch_size = 128 # 128 is default across the models"
   ]
  },
  {
   "cell_type": "code",
   "execution_count": 3,
   "metadata": {},
   "outputs": [],
   "source": [
    "#Seeding random state to 13 always, for reproducibility\n",
    "np.random.seed(utils.seed)\n",
    "set_seed(utils.seed)"
   ]
  },
  {
   "cell_type": "code",
   "execution_count": 4,
   "metadata": {},
   "outputs": [
    {
     "name": "stdout",
     "output_type": "stream",
     "text": [
      "gpus: [PhysicalDevice(name='/physical_device:GPU:0', device_type='GPU')]\n",
      "1 Physical GPU, 1 Logical GPUs\n"
     ]
    }
   ],
   "source": [
    "### Used to select GPU 0=first device, 1=second device, etc...\n",
    "os.environ[\"CUDA_VISIBLE_DEVICES\"]=\"0\"\n",
    "\n",
    "gpus = tf.config.experimental.list_physical_devices('GPU')\n",
    "print('gpus:',gpus)\n",
    "if gpus:\n",
    "    try:\n",
    "        tf.config.experimental.set_visible_devices(gpus[0], 'GPU')\n",
    "        tf.config.experimental.set_memory_growth(gpus[0], True)\n",
    "        logical_gpus = tf.config.experimental.list_logical_devices('GPU')\n",
    "        print(len(gpus), \"Physical GPU,\", len(logical_gpus), \"Logical GPUs\")\n",
    "    except RuntimeError as e:\n",
    "        # Virtual devices must be set before GPUs have been initialized\n",
    "        print(e)"
   ]
  },
  {
   "cell_type": "code",
   "execution_count": 5,
   "metadata": {},
   "outputs": [
    {
     "name": "stderr",
     "output_type": "stream",
     "text": [
      "94493it [00:00, 824565.53it/s]\n",
      "94493it [00:00, 1419711.60it/s]\n",
      "31825it [00:00, 836788.88it/s]\n",
      "31825it [00:00, 1478978.49it/s]\n"
     ]
    }
   ],
   "source": [
    "dataset = utils.makeDataset(pathFromCwdToDataRoot=\"Data\")"
   ]
  },
  {
   "cell_type": "code",
   "execution_count": 6,
   "metadata": {},
   "outputs": [
    {
     "name": "stderr",
     "output_type": "stream",
     "text": [
      "C:\\Users\\music\\anaconda3\\envs\\csc790\\lib\\site-packages\\keras_preprocessing\\image\\image_data_generator.py:356: UserWarning: This ImageDataGenerator specifies `samplewise_std_normalization`, which overrides setting of `samplewise_center`.\n",
      "  warnings.warn('This ImageDataGenerator specifies '\n"
     ]
    },
    {
     "name": "stdout",
     "output_type": "stream",
     "text": [
      "Found 102315 non-validated image filenames belonging to 2 classes.\n"
     ]
    },
    {
     "name": "stderr",
     "output_type": "stream",
     "text": [
      "C:\\Users\\music\\anaconda3\\envs\\csc790\\lib\\site-packages\\keras_preprocessing\\image\\image_data_generator.py:356: UserWarning: This ImageDataGenerator specifies `samplewise_std_normalization`, which overrides setting of `samplewise_center`.\n",
      "  warnings.warn('This ImageDataGenerator specifies '\n",
      "C:\\Users\\music\\anaconda3\\envs\\csc790\\lib\\site-packages\\keras_preprocessing\\image\\image_data_generator.py:356: UserWarning: This ImageDataGenerator specifies `samplewise_std_normalization`, which overrides setting of `samplewise_center`.\n",
      "  warnings.warn('This ImageDataGenerator specifies '\n"
     ]
    },
    {
     "name": "stdout",
     "output_type": "stream",
     "text": [
      "Found 12633 non-validated image filenames belonging to 2 classes.\n",
      "Found 11370 non-validated image filenames belonging to 2 classes.\n",
      "\n",
      "Found 102315 non-validated image filenames belonging to 2 classes.\n"
     ]
    },
    {
     "name": "stderr",
     "output_type": "stream",
     "text": [
      "C:\\Users\\music\\anaconda3\\envs\\csc790\\lib\\site-packages\\keras_preprocessing\\image\\image_data_generator.py:356: UserWarning: This ImageDataGenerator specifies `samplewise_std_normalization`, which overrides setting of `samplewise_center`.\n",
      "  warnings.warn('This ImageDataGenerator specifies '\n",
      "C:\\Users\\music\\anaconda3\\envs\\csc790\\lib\\site-packages\\keras_preprocessing\\image\\image_data_generator.py:356: UserWarning: This ImageDataGenerator specifies `samplewise_std_normalization`, which overrides setting of `samplewise_center`.\n",
      "  warnings.warn('This ImageDataGenerator specifies '\n"
     ]
    },
    {
     "name": "stdout",
     "output_type": "stream",
     "text": [
      "Found 12633 non-validated image filenames belonging to 2 classes.\n",
      "Found 11370 non-validated image filenames belonging to 2 classes.\n",
      "\n",
      "Found 102315 non-validated image filenames belonging to 2 classes.\n"
     ]
    },
    {
     "name": "stderr",
     "output_type": "stream",
     "text": [
      "C:\\Users\\music\\anaconda3\\envs\\csc790\\lib\\site-packages\\keras_preprocessing\\image\\image_data_generator.py:356: UserWarning: This ImageDataGenerator specifies `samplewise_std_normalization`, which overrides setting of `samplewise_center`.\n",
      "  warnings.warn('This ImageDataGenerator specifies '\n",
      "C:\\Users\\music\\anaconda3\\envs\\csc790\\lib\\site-packages\\keras_preprocessing\\image\\image_data_generator.py:356: UserWarning: This ImageDataGenerator specifies `samplewise_std_normalization`, which overrides setting of `samplewise_center`.\n",
      "  warnings.warn('This ImageDataGenerator specifies '\n"
     ]
    },
    {
     "name": "stdout",
     "output_type": "stream",
     "text": [
      "Found 12633 non-validated image filenames belonging to 2 classes.\n",
      "Found 11370 non-validated image filenames belonging to 2 classes.\n",
      "\n",
      "Found 102315 non-validated image filenames belonging to 2 classes.\n"
     ]
    },
    {
     "name": "stderr",
     "output_type": "stream",
     "text": [
      "C:\\Users\\music\\anaconda3\\envs\\csc790\\lib\\site-packages\\keras_preprocessing\\image\\image_data_generator.py:356: UserWarning: This ImageDataGenerator specifies `samplewise_std_normalization`, which overrides setting of `samplewise_center`.\n",
      "  warnings.warn('This ImageDataGenerator specifies '\n",
      "C:\\Users\\music\\anaconda3\\envs\\csc790\\lib\\site-packages\\keras_preprocessing\\image\\image_data_generator.py:356: UserWarning: This ImageDataGenerator specifies `samplewise_std_normalization`, which overrides setting of `samplewise_center`.\n",
      "  warnings.warn('This ImageDataGenerator specifies '\n"
     ]
    },
    {
     "name": "stdout",
     "output_type": "stream",
     "text": [
      "Found 12633 non-validated image filenames belonging to 2 classes.\n",
      "Found 11370 non-validated image filenames belonging to 2 classes.\n",
      "\n",
      "Found 102315 non-validated image filenames belonging to 2 classes.\n"
     ]
    },
    {
     "name": "stderr",
     "output_type": "stream",
     "text": [
      "C:\\Users\\music\\anaconda3\\envs\\csc790\\lib\\site-packages\\keras_preprocessing\\image\\image_data_generator.py:356: UserWarning: This ImageDataGenerator specifies `samplewise_std_normalization`, which overrides setting of `samplewise_center`.\n",
      "  warnings.warn('This ImageDataGenerator specifies '\n",
      "C:\\Users\\music\\anaconda3\\envs\\csc790\\lib\\site-packages\\keras_preprocessing\\image\\image_data_generator.py:356: UserWarning: This ImageDataGenerator specifies `samplewise_std_normalization`, which overrides setting of `samplewise_center`.\n",
      "  warnings.warn('This ImageDataGenerator specifies '\n"
     ]
    },
    {
     "name": "stdout",
     "output_type": "stream",
     "text": [
      "Found 12633 non-validated image filenames belonging to 2 classes.\n",
      "Found 11370 non-validated image filenames belonging to 2 classes.\n",
      "\n",
      "Found 102315 non-validated image filenames belonging to 2 classes.\n"
     ]
    },
    {
     "name": "stderr",
     "output_type": "stream",
     "text": [
      "C:\\Users\\music\\anaconda3\\envs\\csc790\\lib\\site-packages\\keras_preprocessing\\image\\image_data_generator.py:356: UserWarning: This ImageDataGenerator specifies `samplewise_std_normalization`, which overrides setting of `samplewise_center`.\n",
      "  warnings.warn('This ImageDataGenerator specifies '\n",
      "C:\\Users\\music\\anaconda3\\envs\\csc790\\lib\\site-packages\\keras_preprocessing\\image\\image_data_generator.py:356: UserWarning: This ImageDataGenerator specifies `samplewise_std_normalization`, which overrides setting of `samplewise_center`.\n",
      "  warnings.warn('This ImageDataGenerator specifies '\n"
     ]
    },
    {
     "name": "stdout",
     "output_type": "stream",
     "text": [
      "Found 12633 non-validated image filenames belonging to 2 classes.\n",
      "Found 11370 non-validated image filenames belonging to 2 classes.\n",
      "\n",
      "Found 102315 non-validated image filenames belonging to 2 classes.\n"
     ]
    },
    {
     "name": "stderr",
     "output_type": "stream",
     "text": [
      "C:\\Users\\music\\anaconda3\\envs\\csc790\\lib\\site-packages\\keras_preprocessing\\image\\image_data_generator.py:356: UserWarning: This ImageDataGenerator specifies `samplewise_std_normalization`, which overrides setting of `samplewise_center`.\n",
      "  warnings.warn('This ImageDataGenerator specifies '\n",
      "C:\\Users\\music\\anaconda3\\envs\\csc790\\lib\\site-packages\\keras_preprocessing\\image\\image_data_generator.py:356: UserWarning: This ImageDataGenerator specifies `samplewise_std_normalization`, which overrides setting of `samplewise_center`.\n",
      "  warnings.warn('This ImageDataGenerator specifies '\n"
     ]
    },
    {
     "name": "stdout",
     "output_type": "stream",
     "text": [
      "Found 12633 non-validated image filenames belonging to 2 classes.\n",
      "Found 11370 non-validated image filenames belonging to 2 classes.\n",
      "\n",
      "Found 102315 non-validated image filenames belonging to 2 classes.\n"
     ]
    },
    {
     "name": "stderr",
     "output_type": "stream",
     "text": [
      "C:\\Users\\music\\anaconda3\\envs\\csc790\\lib\\site-packages\\keras_preprocessing\\image\\image_data_generator.py:356: UserWarning: This ImageDataGenerator specifies `samplewise_std_normalization`, which overrides setting of `samplewise_center`.\n",
      "  warnings.warn('This ImageDataGenerator specifies '\n",
      "C:\\Users\\music\\anaconda3\\envs\\csc790\\lib\\site-packages\\keras_preprocessing\\image\\image_data_generator.py:356: UserWarning: This ImageDataGenerator specifies `samplewise_std_normalization`, which overrides setting of `samplewise_center`.\n",
      "  warnings.warn('This ImageDataGenerator specifies '\n"
     ]
    },
    {
     "name": "stdout",
     "output_type": "stream",
     "text": [
      "Found 12633 non-validated image filenames belonging to 2 classes.\n",
      "Found 11370 non-validated image filenames belonging to 2 classes.\n",
      "\n",
      "Found 102315 non-validated image filenames belonging to 2 classes.\n"
     ]
    },
    {
     "name": "stderr",
     "output_type": "stream",
     "text": [
      "C:\\Users\\music\\anaconda3\\envs\\csc790\\lib\\site-packages\\keras_preprocessing\\image\\image_data_generator.py:356: UserWarning: This ImageDataGenerator specifies `samplewise_std_normalization`, which overrides setting of `samplewise_center`.\n",
      "  warnings.warn('This ImageDataGenerator specifies '\n",
      "C:\\Users\\music\\anaconda3\\envs\\csc790\\lib\\site-packages\\keras_preprocessing\\image\\image_data_generator.py:356: UserWarning: This ImageDataGenerator specifies `samplewise_std_normalization`, which overrides setting of `samplewise_center`.\n",
      "  warnings.warn('This ImageDataGenerator specifies '\n"
     ]
    },
    {
     "name": "stdout",
     "output_type": "stream",
     "text": [
      "Found 12633 non-validated image filenames belonging to 2 classes.\n",
      "Found 11370 non-validated image filenames belonging to 2 classes.\n",
      "\n",
      "Found 102315 non-validated image filenames belonging to 2 classes.\n",
      "Found 12633 non-validated image filenames belonging to 2 classes.\n",
      "Found 11370 non-validated image filenames belonging to 2 classes.\n",
      "\n"
     ]
    },
    {
     "name": "stderr",
     "output_type": "stream",
     "text": [
      "C:\\Users\\music\\anaconda3\\envs\\csc790\\lib\\site-packages\\keras_preprocessing\\image\\image_data_generator.py:356: UserWarning: This ImageDataGenerator specifies `samplewise_std_normalization`, which overrides setting of `samplewise_center`.\n",
      "  warnings.warn('This ImageDataGenerator specifies '\n"
     ]
    }
   ],
   "source": [
    "kFCV_sets, weights_dict = utils.makeFolds(dataset=dataset, n_folds=n_folds, batch_size=batch_size)"
   ]
  },
  {
   "cell_type": "code",
   "execution_count": 7,
   "metadata": {},
   "outputs": [
    {
     "name": "stdout",
     "output_type": "stream",
     "text": [
      "{0: 0.9585261658953365, 1: 1.045225155279503}\n"
     ]
    }
   ],
   "source": [
    "print(weights_dict)"
   ]
  },
  {
   "cell_type": "code",
   "execution_count": 8,
   "metadata": {},
   "outputs": [
    {
     "name": "stdout",
     "output_type": "stream",
     "text": [
      "Fold 1 of 10\n",
      "Epoch 1/100\n",
      "800/800 [==============================] - 103s 129ms/step - loss: 0.5282 - accuracy: 0.9478 - val_loss: 0.5289 - val_accuracy: 0.9631\n",
      "Epoch 2/100\n",
      "800/800 [==============================] - 103s 128ms/step - loss: 0.5198 - accuracy: 0.9648 - val_loss: 0.5343 - val_accuracy: 0.9552\n",
      "Epoch 3/100\n",
      "800/800 [==============================] - 103s 128ms/step - loss: 0.5171 - accuracy: 0.9702 - val_loss: 0.5279 - val_accuracy: 0.9607\n",
      "Epoch 4/100\n",
      "800/800 [==============================] - ETA: 0s - loss: 0.5158 - accuracy: 0.9731Restoring model weights from the end of the best epoch.\n",
      "800/800 [==============================] - 105s 132ms/step - loss: 0.5158 - accuracy: 0.9731 - val_loss: 0.5330 - val_accuracy: 0.9498\n",
      "Epoch 00004: early stopping\n",
      "99/99 [==============================] - 5s 50ms/step - loss: 0.5311 - accuracy: 0.9598 0s - loss: 0.5308 - accura\n",
      "WARNING:tensorflow:From C:\\Users\\music\\anaconda3\\envs\\csc790\\lib\\site-packages\\tensorflow\\python\\training\\tracking\\tracking.py:111: Model.state_updates (from tensorflow.python.keras.engine.training) is deprecated and will be removed in a future version.\n",
      "Instructions for updating:\n",
      "This property should not be used in TensorFlow 2.0, as updates are applied automatically.\n",
      "WARNING:tensorflow:From C:\\Users\\music\\anaconda3\\envs\\csc790\\lib\\site-packages\\tensorflow\\python\\training\\tracking\\tracking.py:111: Layer.updates (from tensorflow.python.keras.engine.base_layer) is deprecated and will be removed in a future version.\n",
      "Instructions for updating:\n",
      "This property should not be used in TensorFlow 2.0, as updates are applied automatically.\n",
      "INFO:tensorflow:Assets written to: Models/SimpleDenseNet\\assets\n",
      "Fold 2 of 10\n",
      "Epoch 1/100\n",
      "  2/800 [..............................] - ETA: 53s - loss: 0.6946 - accuracy: 0.6680WARNING:tensorflow:Callbacks method `on_train_batch_end` is slow compared to the batch time (batch time: 0.0530s vs `on_train_batch_end` time: 0.0801s). Check your callbacks.\n",
      "800/800 [==============================] - 105s 131ms/step - loss: 0.5272 - accuracy: 0.9503 - val_loss: 0.5330 - val_accuracy: 0.9499\n",
      "Epoch 2/100\n",
      "800/800 [==============================] - 104s 131ms/step - loss: 0.5196 - accuracy: 0.9650 - val_loss: 0.5257 - val_accuracy: 0.9675\n",
      "Epoch 3/100\n",
      "800/800 [==============================] - 106s 132ms/step - loss: 0.5176 - accuracy: 0.9692 - val_loss: 0.5231 - val_accuracy: 0.9721\n",
      "Epoch 4/100\n",
      "800/800 [==============================] - ETA: 0s - loss: 0.5166 - accuracy: 0.9716Restoring model weights from the end of the best epoch.\n",
      "800/800 [==============================] - 105s 131ms/step - loss: 0.5166 - accuracy: 0.9716 - val_loss: 0.5253 - val_accuracy: 0.9712\n",
      "Epoch 00004: early stopping\n",
      "99/99 [==============================] - 5s 52ms/step - loss: 0.5304 - accuracy: 0.9592\n",
      "Fold 3 of 10\n",
      "Epoch 1/100\n",
      "800/800 [==============================] - 104s 131ms/step - loss: 0.5266 - accuracy: 0.9522 - val_loss: 0.5290 - val_accuracy: 0.9564\n",
      "Epoch 2/100\n",
      "800/800 [==============================] - 104s 130ms/step - loss: 0.5187 - accuracy: 0.9673 - val_loss: 0.5261 - val_accuracy: 0.9718\n",
      "Epoch 3/100\n",
      "800/800 [==============================] - 104s 130ms/step - loss: 0.5168 - accuracy: 0.9707 - val_loss: 0.5254 - val_accuracy: 0.9667\n",
      "Epoch 4/100\n",
      "800/800 [==============================] - ETA: 0s - loss: 0.5160 - accuracy: 0.9728Restoring model weights from the end of the best epoch.\n",
      "800/800 [==============================] - 104s 130ms/step - loss: 0.5160 - accuracy: 0.9728 - val_loss: 0.5236 - val_accuracy: 0.9740\n",
      "Epoch 00004: early stopping\n",
      "99/99 [==============================] - 5s 53ms/step - loss: 0.5297 - accuracy: 0.9552\n",
      "Fold 4 of 10\n",
      "Epoch 1/100\n",
      "800/800 [==============================] - 106s 132ms/step - loss: 0.5264 - accuracy: 0.9523 - val_loss: 0.5248 - val_accuracy: 0.9718\n",
      "Epoch 2/100\n",
      "800/800 [==============================] - 106s 132ms/step - loss: 0.5186 - accuracy: 0.9672 - val_loss: 0.5300 - val_accuracy: 0.9572\n",
      "Epoch 3/100\n",
      "800/800 [==============================] - 104s 130ms/step - loss: 0.5172 - accuracy: 0.9701 - val_loss: 0.5271 - val_accuracy: 0.9690\n",
      "Epoch 4/100\n",
      "800/800 [==============================] - ETA: 0s - loss: 0.5158 - accuracy: 0.9731Restoring model weights from the end of the best epoch.\n",
      "800/800 [==============================] - 106s 133ms/step - loss: 0.5158 - accuracy: 0.9731 - val_loss: 0.5246 - val_accuracy: 0.9746\n",
      "Epoch 00004: early stopping\n",
      "99/99 [==============================] - 5s 54ms/step - loss: 0.5288 - accuracy: 0.9635 0s - loss: 0.5300 \n",
      "Fold 5 of 10\n",
      "Epoch 1/100\n",
      "  2/800 [..............................] - ETA: 55s - loss: 0.7008 - accuracy: 0.7031WARNING:tensorflow:Callbacks method `on_train_batch_end` is slow compared to the batch time (batch time: 0.0550s vs `on_train_batch_end` time: 0.0846s). Check your callbacks.\n",
      "800/800 [==============================] - 105s 132ms/step - loss: 0.5270 - accuracy: 0.9504 - val_loss: 0.5452 - val_accuracy: 0.9121\n",
      "Epoch 2/100\n",
      "800/800 [==============================] - 104s 131ms/step - loss: 0.5193 - accuracy: 0.9657 - val_loss: 0.5311 - val_accuracy: 0.9526\n",
      "Epoch 3/100\n",
      "800/800 [==============================] - 104s 130ms/step - loss: 0.5173 - accuracy: 0.9698 - val_loss: 0.5280 - val_accuracy: 0.9588\n",
      "Epoch 4/100\n",
      "800/800 [==============================] - 104s 130ms/step - loss: 0.5164 - accuracy: 0.9716 - val_loss: 0.5359 - val_accuracy: 0.9369\n",
      "Epoch 5/100\n",
      "800/800 [==============================] - ETA: 0s - loss: 0.5154 - accuracy: 0.9742Restoring model weights from the end of the best epoch.\n",
      "800/800 [==============================] - 104s 130ms/step - loss: 0.5154 - accuracy: 0.9742 - val_loss: 0.5370 - val_accuracy: 0.9556\n",
      "Epoch 00005: early stopping\n",
      "99/99 [==============================] - 5s 54ms/step - loss: 0.5319 - accuracy: 0.9520\n",
      "Fold 6 of 10\n",
      "Epoch 1/100\n",
      "800/800 [==============================] - 105s 131ms/step - loss: 0.5275 - accuracy: 0.9505 - val_loss: 0.5343 - val_accuracy: 0.9605\n",
      "Epoch 2/100\n",
      "800/800 [==============================] - 104s 130ms/step - loss: 0.5187 - accuracy: 0.9671 - val_loss: 0.5243 - val_accuracy: 0.9715\n",
      "Epoch 3/100\n",
      "800/800 [==============================] - 104s 130ms/step - loss: 0.5168 - accuracy: 0.9711 - val_loss: 0.5258 - val_accuracy: 0.9645\n",
      "Epoch 4/100\n",
      "800/800 [==============================] - 104s 130ms/step - loss: 0.5159 - accuracy: 0.9731 - val_loss: 0.5222 - val_accuracy: 0.9739\n",
      "Epoch 5/100\n",
      "800/800 [==============================] - ETA: 0s - loss: 0.5155 - accuracy: 0.9736Restoring model weights from the end of the best epoch.\n",
      "800/800 [==============================] - 104s 130ms/step - loss: 0.5155 - accuracy: 0.9736 - val_loss: 0.5324 - val_accuracy: 0.9622\n",
      "Epoch 00005: early stopping\n",
      "99/99 [==============================] - 5s 53ms/step - loss: 0.5274 - accuracy: 0.9649\n",
      "Fold 7 of 10\n",
      "Epoch 1/100\n",
      "800/800 [==============================] - 105s 131ms/step - loss: 0.5253 - accuracy: 0.9544 - val_loss: 0.5547 - val_accuracy: 0.8923\n",
      "Epoch 2/100\n",
      "800/800 [==============================] - 104s 130ms/step - loss: 0.5192 - accuracy: 0.9661 - val_loss: 0.5610 - val_accuracy: 0.9190\n",
      "Epoch 3/100\n",
      "800/800 [==============================] - 104s 130ms/step - loss: 0.5168 - accuracy: 0.9711 - val_loss: 0.5308 - val_accuracy: 0.9509\n",
      "Epoch 4/100\n",
      "800/800 [==============================] - 104s 130ms/step - loss: 0.5159 - accuracy: 0.9729 - val_loss: 0.5216 - val_accuracy: 0.9749\n",
      "Epoch 5/100\n",
      "800/800 [==============================] - 104s 130ms/step - loss: 0.5155 - accuracy: 0.9738 - val_loss: 0.5323 - val_accuracy: 0.9639\n",
      "Epoch 6/100\n",
      "800/800 [==============================] - ETA: 0s - loss: 0.5147 - accuracy: 0.9756Restoring model weights from the end of the best epoch.\n",
      "800/800 [==============================] - 104s 131ms/step - loss: 0.5147 - accuracy: 0.9756 - val_loss: 0.5243 - val_accuracy: 0.9715\n",
      "Epoch 00006: early stopping\n",
      "99/99 [==============================] - 5s 54ms/step - loss: 0.5318 - accuracy: 0.9483\n",
      "Fold 8 of 10\n",
      "Epoch 1/100\n",
      "800/800 [==============================] - 105s 131ms/step - loss: 0.5260 - accuracy: 0.9532 - val_loss: 0.5282 - val_accuracy: 0.9659\n",
      "Epoch 2/100\n",
      "800/800 [==============================] - 104s 130ms/step - loss: 0.5188 - accuracy: 0.9666 - val_loss: 0.5470 - val_accuracy: 0.9063\n",
      "Epoch 3/100\n",
      "800/800 [==============================] - 104s 131ms/step - loss: 0.5173 - accuracy: 0.9699 - val_loss: 0.5472 - val_accuracy: 0.9080\n",
      "Epoch 4/100\n",
      "800/800 [==============================] - ETA: 0s - loss: 0.5166 - accuracy: 0.9715Restoring model weights from the end of the best epoch.\n",
      "800/800 [==============================] - 104s 130ms/step - loss: 0.5166 - accuracy: 0.9715 - val_loss: 0.5263 - val_accuracy: 0.9649\n",
      "Epoch 00004: early stopping\n",
      "99/99 [==============================] - 5s 54ms/step - loss: 0.5285 - accuracy: 0.9647\n",
      "Fold 9 of 10\n",
      "Epoch 1/100\n",
      "800/800 [==============================] - 104s 131ms/step - loss: 0.5268 - accuracy: 0.9518 - val_loss: 0.5310 - val_accuracy: 0.9628\n",
      "Epoch 2/100\n",
      "800/800 [==============================] - 104s 130ms/step - loss: 0.5191 - accuracy: 0.9661 - val_loss: 0.5274 - val_accuracy: 0.9621\n",
      "Epoch 3/100\n",
      "800/800 [==============================] - 104s 130ms/step - loss: 0.5177 - accuracy: 0.9689 - val_loss: 0.5430 - val_accuracy: 0.9176\n",
      "Epoch 4/100\n",
      "800/800 [==============================] - ETA: 0s - loss: 0.5165 - accuracy: 0.9714Restoring model weights from the end of the best epoch.\n",
      "800/800 [==============================] - 104s 130ms/step - loss: 0.5165 - accuracy: 0.9714 - val_loss: 0.5293 - val_accuracy: 0.9691\n",
      "Epoch 00004: early stopping\n",
      "99/99 [==============================] - 5s 53ms/step - loss: 0.5326 - accuracy: 0.9608\n",
      "Fold 10 of 10\n",
      "Epoch 1/100\n",
      "800/800 [==============================] - 104s 131ms/step - loss: 0.5266 - accuracy: 0.9521 - val_loss: 0.5311 - val_accuracy: 0.9624\n",
      "Epoch 2/100\n",
      "800/800 [==============================] - 105s 131ms/step - loss: 0.5193 - accuracy: 0.9656 - val_loss: 0.5484 - val_accuracy: 0.9047\n",
      "Epoch 3/100\n",
      "800/800 [==============================] - 105s 132ms/step - loss: 0.5171 - accuracy: 0.9703 - val_loss: 0.5249 - val_accuracy: 0.9686\n",
      "Epoch 4/100\n",
      "800/800 [==============================] - ETA: 0s - loss: 0.5160 - accuracy: 0.9725Restoring model weights from the end of the best epoch.\n",
      "800/800 [==============================] - 104s 130ms/step - loss: 0.5160 - accuracy: 0.9725 - val_loss: 0.5228 - val_accuracy: 0.9735\n",
      "Epoch 00004: early stopping\n",
      "99/99 [==============================] - 5s 52ms/step - loss: 0.5312 - accuracy: 0.9608\n"
     ]
    }
   ],
   "source": [
    "k_results=pd.DataFrame(columns = ['Fold', 'Loss', 'Accuracy'])\n",
    "\n",
    "for i, k in enumerate(kFCV_sets):\n",
    "    print(\"Fold\", i+1, \"of\", len(kFCV_sets))\n",
    "\n",
    "    train_generator, test_generator, val_generator = k\n",
    "\n",
    "    #Build Model\n",
    "    model = utils.makeModel(inputShape=(150, 150, 3), modelName=modelName)\n",
    "    opt = tf.optimizers.Adam()\n",
    "    model.compile(\n",
    "        optimizer = opt,\n",
    "        loss = keras.losses.BinaryCrossentropy(from_logits = True),\n",
    "        metrics = [\"accuracy\"]\n",
    "    )\n",
    "\n",
    "    #Fit data  \n",
    "    model.fit(\n",
    "        train_generator,\n",
    "        validation_data=val_generator,\n",
    "        callbacks = utils.callbacks,\n",
    "        epochs = 100,\n",
    "        class_weight = weights_dict,\n",
    "        max_queue_size = 10,\n",
    "        workers = os.cpu_count(),\n",
    "    )\n",
    "\n",
    "    #Test accuracy\n",
    "    results = model.evaluate(\n",
    "        test_generator,\n",
    "        max_queue_size = 10,\n",
    "        workers = os.cpu_count(),\n",
    "    )\n",
    "\n",
    "    k_results = k_results.append({'Fold':i+1, 'Loss':results[0], 'Accuracy':results[1]}, ignore_index=True)\n",
    "    \n",
    "    if i == 0:\n",
    "        # Write the summary to a file\n",
    "        with open(f'Results/{modelName}Summary.txt', 'w') as f:\n",
    "            with redirect_stdout(f):\n",
    "                print(model.summary())\n",
    "        #Save the model\n",
    "        model.save(f'Models/{modelName}')\n",
    "        \n",
    "    keras.backend.clear_session() \n",
    "\n",
    "k_results = k_results.append({'Fold':\"Avg\", 'Loss':np.average(k_results['Loss']), 'Accuracy':np.average(k_results['Accuracy'])}, ignore_index=True)"
   ]
  },
  {
   "cell_type": "code",
   "execution_count": 9,
   "metadata": {},
   "outputs": [],
   "source": [
    "if n_folds != 1:\n",
    "    k_results.to_csv(f'Results/k-fcv_{modelName}.csv')"
   ]
  }
 ],
 "metadata": {
  "kernelspec": {
   "display_name": "csc790",
   "language": "python",
   "name": "csc790"
  },
  "language_info": {
   "codemirror_mode": {
    "name": "ipython",
    "version": 3
   },
   "file_extension": ".py",
   "mimetype": "text/x-python",
   "name": "python",
   "nbconvert_exporter": "python",
   "pygments_lexer": "ipython3",
   "version": "3.8.5"
  }
 },
 "nbformat": 4,
 "nbformat_minor": 4
}
