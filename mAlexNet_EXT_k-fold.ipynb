{
 "cells": [
  {
   "cell_type": "code",
   "execution_count": 1,
   "metadata": {},
   "outputs": [],
   "source": [
    "import numpy as np\n",
    "import pandas as pd\n",
    "\n",
    "import tensorflow as tf\n",
    "from tensorflow import keras\n",
    "from tensorflow.random import set_seed\n",
    "\n",
    "from tqdm import tqdm\n",
    "from contextlib import redirect_stdout\n",
    "import os\n",
    "\n",
    "import utils"
   ]
  },
  {
   "cell_type": "code",
   "execution_count": 2,
   "metadata": {},
   "outputs": [],
   "source": [
    "# Define a model name for repeated use\n",
    "modelName = \"mAlexNet\"\n",
    "n_folds = 10 # 1 = normal experiment\n",
    "batch_size = 128 # 128 is default across the models"
   ]
  },
  {
   "cell_type": "code",
   "execution_count": 3,
   "metadata": {},
   "outputs": [],
   "source": [
    "#Seeding random state to 13 always, for reproducibility\n",
    "np.random.seed(utils.seed)\n",
    "set_seed(utils.seed)"
   ]
  },
  {
   "cell_type": "code",
   "execution_count": 4,
   "metadata": {},
   "outputs": [
    {
     "name": "stdout",
     "output_type": "stream",
     "text": [
      "gpus: [PhysicalDevice(name='/physical_device:GPU:0', device_type='GPU')]\n",
      "1 Physical GPU, 1 Logical GPUs\n"
     ]
    }
   ],
   "source": [
    "### Used to select GPU 0=first device, 1=second device, etc...\n",
    "os.environ[\"CUDA_VISIBLE_DEVICES\"]=\"0\"\n",
    "\n",
    "gpus = tf.config.experimental.list_physical_devices('GPU')\n",
    "print('gpus:',gpus)\n",
    "if gpus:\n",
    "    try:\n",
    "        tf.config.experimental.set_visible_devices(gpus[0], 'GPU')\n",
    "        tf.config.experimental.set_memory_growth(gpus[0], True)\n",
    "        logical_gpus = tf.config.experimental.list_logical_devices('GPU')\n",
    "        print(len(gpus), \"Physical GPU,\", len(logical_gpus), \"Logical GPUs\")\n",
    "    except RuntimeError as e:\n",
    "        # Virtual devices must be set before GPUs have been initialized\n",
    "        print(e)"
   ]
  },
  {
   "cell_type": "code",
   "execution_count": 5,
   "metadata": {},
   "outputs": [
    {
     "name": "stderr",
     "output_type": "stream",
     "text": [
      "94493it [00:00, 874182.23it/s]\n",
      "94493it [00:00, 1475197.15it/s]\n",
      "31825it [00:00, 871189.95it/s]\n",
      "31825it [00:00, 1630654.23it/s]\n"
     ]
    }
   ],
   "source": [
    "dataset = utils.makeDataset(pathFromCwdToDataRoot=\"Data\")"
   ]
  },
  {
   "cell_type": "code",
   "execution_count": 6,
   "metadata": {},
   "outputs": [
    {
     "name": "stderr",
     "output_type": "stream",
     "text": [
      "C:\\Users\\music\\anaconda3\\envs\\csc790\\lib\\site-packages\\keras_preprocessing\\image\\image_data_generator.py:356: UserWarning: This ImageDataGenerator specifies `samplewise_std_normalization`, which overrides setting of `samplewise_center`.\n",
      "  warnings.warn('This ImageDataGenerator specifies '\n"
     ]
    },
    {
     "name": "stdout",
     "output_type": "stream",
     "text": [
      "Found 102315 non-validated image filenames belonging to 2 classes.\n"
     ]
    },
    {
     "name": "stderr",
     "output_type": "stream",
     "text": [
      "C:\\Users\\music\\anaconda3\\envs\\csc790\\lib\\site-packages\\keras_preprocessing\\image\\image_data_generator.py:356: UserWarning: This ImageDataGenerator specifies `samplewise_std_normalization`, which overrides setting of `samplewise_center`.\n",
      "  warnings.warn('This ImageDataGenerator specifies '\n",
      "C:\\Users\\music\\anaconda3\\envs\\csc790\\lib\\site-packages\\keras_preprocessing\\image\\image_data_generator.py:356: UserWarning: This ImageDataGenerator specifies `samplewise_std_normalization`, which overrides setting of `samplewise_center`.\n",
      "  warnings.warn('This ImageDataGenerator specifies '\n"
     ]
    },
    {
     "name": "stdout",
     "output_type": "stream",
     "text": [
      "Found 12633 non-validated image filenames belonging to 2 classes.\n",
      "Found 11370 non-validated image filenames belonging to 2 classes.\n",
      "\n",
      "Found 102315 non-validated image filenames belonging to 2 classes.\n",
      "Found 12633 non-validated image filenames belonging to 2 classes.\n",
      "Found 11370 non-validated image filenames belonging to 2 classes.\n",
      "\n"
     ]
    },
    {
     "name": "stderr",
     "output_type": "stream",
     "text": [
      "C:\\Users\\music\\anaconda3\\envs\\csc790\\lib\\site-packages\\keras_preprocessing\\image\\image_data_generator.py:356: UserWarning: This ImageDataGenerator specifies `samplewise_std_normalization`, which overrides setting of `samplewise_center`.\n",
      "  warnings.warn('This ImageDataGenerator specifies '\n",
      "C:\\Users\\music\\anaconda3\\envs\\csc790\\lib\\site-packages\\keras_preprocessing\\image\\image_data_generator.py:356: UserWarning: This ImageDataGenerator specifies `samplewise_std_normalization`, which overrides setting of `samplewise_center`.\n",
      "  warnings.warn('This ImageDataGenerator specifies '\n"
     ]
    },
    {
     "name": "stdout",
     "output_type": "stream",
     "text": [
      "Found 102315 non-validated image filenames belonging to 2 classes.\n"
     ]
    },
    {
     "name": "stderr",
     "output_type": "stream",
     "text": [
      "C:\\Users\\music\\anaconda3\\envs\\csc790\\lib\\site-packages\\keras_preprocessing\\image\\image_data_generator.py:356: UserWarning: This ImageDataGenerator specifies `samplewise_std_normalization`, which overrides setting of `samplewise_center`.\n",
      "  warnings.warn('This ImageDataGenerator specifies '\n",
      "C:\\Users\\music\\anaconda3\\envs\\csc790\\lib\\site-packages\\keras_preprocessing\\image\\image_data_generator.py:356: UserWarning: This ImageDataGenerator specifies `samplewise_std_normalization`, which overrides setting of `samplewise_center`.\n",
      "  warnings.warn('This ImageDataGenerator specifies '\n"
     ]
    },
    {
     "name": "stdout",
     "output_type": "stream",
     "text": [
      "Found 12633 non-validated image filenames belonging to 2 classes.\n",
      "Found 11370 non-validated image filenames belonging to 2 classes.\n",
      "\n",
      "Found 102315 non-validated image filenames belonging to 2 classes.\n"
     ]
    },
    {
     "name": "stderr",
     "output_type": "stream",
     "text": [
      "C:\\Users\\music\\anaconda3\\envs\\csc790\\lib\\site-packages\\keras_preprocessing\\image\\image_data_generator.py:356: UserWarning: This ImageDataGenerator specifies `samplewise_std_normalization`, which overrides setting of `samplewise_center`.\n",
      "  warnings.warn('This ImageDataGenerator specifies '\n",
      "C:\\Users\\music\\anaconda3\\envs\\csc790\\lib\\site-packages\\keras_preprocessing\\image\\image_data_generator.py:356: UserWarning: This ImageDataGenerator specifies `samplewise_std_normalization`, which overrides setting of `samplewise_center`.\n",
      "  warnings.warn('This ImageDataGenerator specifies '\n"
     ]
    },
    {
     "name": "stdout",
     "output_type": "stream",
     "text": [
      "Found 12633 non-validated image filenames belonging to 2 classes.\n",
      "Found 11370 non-validated image filenames belonging to 2 classes.\n",
      "\n",
      "Found 102315 non-validated image filenames belonging to 2 classes.\n"
     ]
    },
    {
     "name": "stderr",
     "output_type": "stream",
     "text": [
      "C:\\Users\\music\\anaconda3\\envs\\csc790\\lib\\site-packages\\keras_preprocessing\\image\\image_data_generator.py:356: UserWarning: This ImageDataGenerator specifies `samplewise_std_normalization`, which overrides setting of `samplewise_center`.\n",
      "  warnings.warn('This ImageDataGenerator specifies '\n",
      "C:\\Users\\music\\anaconda3\\envs\\csc790\\lib\\site-packages\\keras_preprocessing\\image\\image_data_generator.py:356: UserWarning: This ImageDataGenerator specifies `samplewise_std_normalization`, which overrides setting of `samplewise_center`.\n",
      "  warnings.warn('This ImageDataGenerator specifies '\n"
     ]
    },
    {
     "name": "stdout",
     "output_type": "stream",
     "text": [
      "Found 12633 non-validated image filenames belonging to 2 classes.\n",
      "Found 11370 non-validated image filenames belonging to 2 classes.\n",
      "\n",
      "Found 102315 non-validated image filenames belonging to 2 classes.\n",
      "Found 12633 non-validated image filenames belonging to 2 classes.\n",
      "Found 11370 non-validated image filenames belonging to 2 classes.\n",
      "\n"
     ]
    },
    {
     "name": "stderr",
     "output_type": "stream",
     "text": [
      "C:\\Users\\music\\anaconda3\\envs\\csc790\\lib\\site-packages\\keras_preprocessing\\image\\image_data_generator.py:356: UserWarning: This ImageDataGenerator specifies `samplewise_std_normalization`, which overrides setting of `samplewise_center`.\n",
      "  warnings.warn('This ImageDataGenerator specifies '\n",
      "C:\\Users\\music\\anaconda3\\envs\\csc790\\lib\\site-packages\\keras_preprocessing\\image\\image_data_generator.py:356: UserWarning: This ImageDataGenerator specifies `samplewise_std_normalization`, which overrides setting of `samplewise_center`.\n",
      "  warnings.warn('This ImageDataGenerator specifies '\n"
     ]
    },
    {
     "name": "stdout",
     "output_type": "stream",
     "text": [
      "Found 102315 non-validated image filenames belonging to 2 classes.\n"
     ]
    },
    {
     "name": "stderr",
     "output_type": "stream",
     "text": [
      "C:\\Users\\music\\anaconda3\\envs\\csc790\\lib\\site-packages\\keras_preprocessing\\image\\image_data_generator.py:356: UserWarning: This ImageDataGenerator specifies `samplewise_std_normalization`, which overrides setting of `samplewise_center`.\n",
      "  warnings.warn('This ImageDataGenerator specifies '\n",
      "C:\\Users\\music\\anaconda3\\envs\\csc790\\lib\\site-packages\\keras_preprocessing\\image\\image_data_generator.py:356: UserWarning: This ImageDataGenerator specifies `samplewise_std_normalization`, which overrides setting of `samplewise_center`.\n",
      "  warnings.warn('This ImageDataGenerator specifies '\n"
     ]
    },
    {
     "name": "stdout",
     "output_type": "stream",
     "text": [
      "Found 12633 non-validated image filenames belonging to 2 classes.\n",
      "Found 11370 non-validated image filenames belonging to 2 classes.\n",
      "\n",
      "Found 102315 non-validated image filenames belonging to 2 classes.\n"
     ]
    },
    {
     "name": "stderr",
     "output_type": "stream",
     "text": [
      "C:\\Users\\music\\anaconda3\\envs\\csc790\\lib\\site-packages\\keras_preprocessing\\image\\image_data_generator.py:356: UserWarning: This ImageDataGenerator specifies `samplewise_std_normalization`, which overrides setting of `samplewise_center`.\n",
      "  warnings.warn('This ImageDataGenerator specifies '\n",
      "C:\\Users\\music\\anaconda3\\envs\\csc790\\lib\\site-packages\\keras_preprocessing\\image\\image_data_generator.py:356: UserWarning: This ImageDataGenerator specifies `samplewise_std_normalization`, which overrides setting of `samplewise_center`.\n",
      "  warnings.warn('This ImageDataGenerator specifies '\n"
     ]
    },
    {
     "name": "stdout",
     "output_type": "stream",
     "text": [
      "Found 12633 non-validated image filenames belonging to 2 classes.\n",
      "Found 11370 non-validated image filenames belonging to 2 classes.\n",
      "\n",
      "Found 102315 non-validated image filenames belonging to 2 classes.\n",
      "Found 12633 non-validated image filenames belonging to 2 classes.\n",
      "Found 11370 non-validated image filenames belonging to 2 classes.\n",
      "\n"
     ]
    },
    {
     "name": "stderr",
     "output_type": "stream",
     "text": [
      "C:\\Users\\music\\anaconda3\\envs\\csc790\\lib\\site-packages\\keras_preprocessing\\image\\image_data_generator.py:356: UserWarning: This ImageDataGenerator specifies `samplewise_std_normalization`, which overrides setting of `samplewise_center`.\n",
      "  warnings.warn('This ImageDataGenerator specifies '\n",
      "C:\\Users\\music\\anaconda3\\envs\\csc790\\lib\\site-packages\\keras_preprocessing\\image\\image_data_generator.py:356: UserWarning: This ImageDataGenerator specifies `samplewise_std_normalization`, which overrides setting of `samplewise_center`.\n",
      "  warnings.warn('This ImageDataGenerator specifies '\n"
     ]
    },
    {
     "name": "stdout",
     "output_type": "stream",
     "text": [
      "Found 102315 non-validated image filenames belonging to 2 classes.\n",
      "Found 12633 non-validated image filenames belonging to 2 classes.\n",
      "Found 11370 non-validated image filenames belonging to 2 classes.\n",
      "\n"
     ]
    },
    {
     "name": "stderr",
     "output_type": "stream",
     "text": [
      "C:\\Users\\music\\anaconda3\\envs\\csc790\\lib\\site-packages\\keras_preprocessing\\image\\image_data_generator.py:356: UserWarning: This ImageDataGenerator specifies `samplewise_std_normalization`, which overrides setting of `samplewise_center`.\n",
      "  warnings.warn('This ImageDataGenerator specifies '\n"
     ]
    }
   ],
   "source": [
    "kFCV_sets, weights_dict = utils.makeFolds(dataset=dataset, n_folds=n_folds, batch_size=batch_size)"
   ]
  },
  {
   "cell_type": "code",
   "execution_count": 7,
   "metadata": {},
   "outputs": [
    {
     "name": "stdout",
     "output_type": "stream",
     "text": [
      "{0: 0.9585261658953365, 1: 1.045225155279503}\n"
     ]
    }
   ],
   "source": [
    "print(weights_dict)"
   ]
  },
  {
   "cell_type": "code",
   "execution_count": 8,
   "metadata": {},
   "outputs": [
    {
     "name": "stdout",
     "output_type": "stream",
     "text": [
      "Fold 1 of 10\n",
      "Epoch 1/100\n",
      "800/800 [==============================] - 52s 65ms/step - loss: 0.5468 - accuracy: 0.9045 - val_loss: 0.5429 - val_accuracy: 0.9253\n",
      "Epoch 2/100\n",
      "800/800 [==============================] - 49s 62ms/step - loss: 0.5354 - accuracy: 0.9309 - val_loss: 0.5456 - val_accuracy: 0.9376\n",
      "Epoch 3/100\n",
      "800/800 [==============================] - 51s 63ms/step - loss: 0.5320 - accuracy: 0.9386 - val_loss: 0.5386 - val_accuracy: 0.9333\n",
      "Epoch 4/100\n",
      "800/800 [==============================] - ETA: 0s - loss: 0.5301 - accuracy: 0.9424Restoring model weights from the end of the best epoch.\n",
      "800/800 [==============================] - 51s 63ms/step - loss: 0.5301 - accuracy: 0.9424 - val_loss: 0.5355 - val_accuracy: 0.9445\n",
      "Epoch 00004: early stopping\n",
      "99/99 [==============================] - 5s 50ms/step - loss: 0.5420 - accuracy: 0.9278\n",
      "WARNING:tensorflow:From C:\\Users\\music\\anaconda3\\envs\\csc790\\lib\\site-packages\\tensorflow\\python\\training\\tracking\\tracking.py:111: Model.state_updates (from tensorflow.python.keras.engine.training) is deprecated and will be removed in a future version.\n",
      "Instructions for updating:\n",
      "This property should not be used in TensorFlow 2.0, as updates are applied automatically.\n",
      "WARNING:tensorflow:From C:\\Users\\music\\anaconda3\\envs\\csc790\\lib\\site-packages\\tensorflow\\python\\training\\tracking\\tracking.py:111: Layer.updates (from tensorflow.python.keras.engine.base_layer) is deprecated and will be removed in a future version.\n",
      "Instructions for updating:\n",
      "This property should not be used in TensorFlow 2.0, as updates are applied automatically.\n",
      "INFO:tensorflow:Assets written to: Models/mAlexNet\\assets\n",
      "Fold 2 of 10\n",
      "Epoch 1/100\n",
      "800/800 [==============================] - 51s 63ms/step - loss: 0.5473 - accuracy: 0.9037 - val_loss: 0.5393 - val_accuracy: 0.9434\n",
      "Epoch 2/100\n",
      "800/800 [==============================] - 50s 62ms/step - loss: 0.5338 - accuracy: 0.9349 - val_loss: 0.5393 - val_accuracy: 0.9349\n",
      "Epoch 3/100\n",
      "800/800 [==============================] - 50s 62ms/step - loss: 0.5299 - accuracy: 0.9430 - val_loss: 0.5386 - val_accuracy: 0.9341\n",
      "Epoch 4/100\n",
      "800/800 [==============================] - ETA: 0s - loss: 0.5288 - accuracy: 0.9455Restoring model weights from the end of the best epoch.\n",
      "800/800 [==============================] - 51s 63ms/step - loss: 0.5288 - accuracy: 0.9455 - val_loss: 0.5351 - val_accuracy: 0.9434\n",
      "Epoch 00004: early stopping\n",
      "99/99 [==============================] - 5s 47ms/step - loss: 0.5431 - accuracy: 0.9353\n",
      "Fold 3 of 10\n",
      "Epoch 1/100\n",
      "800/800 [==============================] - 51s 64ms/step - loss: 0.5516 - accuracy: 0.8963 - val_loss: 0.5402 - val_accuracy: 0.9384\n",
      "Epoch 2/100\n",
      "800/800 [==============================] - 54s 67ms/step - loss: 0.5341 - accuracy: 0.9337 - val_loss: 0.5411 - val_accuracy: 0.9273\n",
      "Epoch 3/100\n",
      "800/800 [==============================] - 53s 66ms/step - loss: 0.5303 - accuracy: 0.9419 - val_loss: 0.5433 - val_accuracy: 0.9207\n",
      "Epoch 4/100\n",
      "798/800 [============================>.] - ETA: 0s - loss: 0.5288 - accuracy: 0.9452Restoring model weights from the end of the best epoch.\n",
      "800/800 [==============================] - 52s 65ms/step - loss: 0.5288 - accuracy: 0.9453 - val_loss: 0.5323 - val_accuracy: 0.9592\n",
      "Epoch 00004: early stopping\n",
      "99/99 [==============================] - 5s 49ms/step - loss: 0.5413 - accuracy: 0.9364\n",
      "Fold 4 of 10\n",
      "Epoch 1/100\n",
      "800/800 [==============================] - 53s 66ms/step - loss: 0.5467 - accuracy: 0.9052 - val_loss: 0.5401 - val_accuracy: 0.9426\n",
      "Epoch 2/100\n",
      "800/800 [==============================] - 52s 66ms/step - loss: 0.5324 - accuracy: 0.9381 - val_loss: 0.5386 - val_accuracy: 0.9354\n",
      "Epoch 3/100\n",
      "800/800 [==============================] - 53s 66ms/step - loss: 0.5290 - accuracy: 0.9451 - val_loss: 0.5322 - val_accuracy: 0.9537\n",
      "Epoch 4/100\n",
      "800/800 [==============================] - 53s 66ms/step - loss: 0.5272 - accuracy: 0.9486 - val_loss: 0.5296 - val_accuracy: 0.9609\n",
      "Epoch 5/100\n",
      "800/800 [==============================] - 53s 67ms/step - loss: 0.5255 - accuracy: 0.9520 - val_loss: 0.5478 - val_accuracy: 0.9069\n",
      "Epoch 6/100\n",
      "800/800 [==============================] - 51s 63ms/step - loss: 0.5251 - accuracy: 0.9535 - val_loss: 0.5325 - val_accuracy: 0.9489\n",
      "Epoch 7/100\n",
      "798/800 [============================>.] - ETA: 0s - loss: 0.5265 - accuracy: 0.9500Restoring model weights from the end of the best epoch.\n",
      "800/800 [==============================] - 51s 64ms/step - loss: 0.5266 - accuracy: 0.9500 - val_loss: 0.5290 - val_accuracy: 0.9625\n",
      "Epoch 00007: early stopping\n",
      "99/99 [==============================] - 5s 50ms/step - loss: 0.5292 - accuracy: 0.9623\n",
      "Fold 5 of 10\n",
      "Epoch 1/100\n",
      "800/800 [==============================] - 52s 64ms/step - loss: 0.5454 - accuracy: 0.9065 - val_loss: 0.5369 - val_accuracy: 0.9487\n",
      "Epoch 2/100\n",
      "800/800 [==============================] - 51s 64ms/step - loss: 0.5322 - accuracy: 0.9379 - val_loss: 0.5355 - val_accuracy: 0.9504\n",
      "Epoch 3/100\n",
      "800/800 [==============================] - 52s 65ms/step - loss: 0.5292 - accuracy: 0.9436 - val_loss: 0.5330 - val_accuracy: 0.9536\n",
      "Epoch 4/100\n",
      "800/800 [==============================] - ETA: 0s - loss: 0.5276 - accuracy: 0.9474Restoring model weights from the end of the best epoch.\n",
      "800/800 [==============================] - 54s 67ms/step - loss: 0.5276 - accuracy: 0.9474 - val_loss: 0.5392 - val_accuracy: 0.9310\n",
      "Epoch 00004: early stopping\n",
      "99/99 [==============================] - 5s 50ms/step - loss: 0.5385 - accuracy: 0.9463\n",
      "Fold 6 of 10\n",
      "Epoch 1/100\n",
      "800/800 [==============================] - 57s 71ms/step - loss: 0.5462 - accuracy: 0.9065 - val_loss: 0.5382 - val_accuracy: 0.9439\n",
      "Epoch 2/100\n",
      "800/800 [==============================] - 55s 69ms/step - loss: 0.5332 - accuracy: 0.9358 - val_loss: 0.5347 - val_accuracy: 0.9475\n",
      "Epoch 3/100\n",
      "800/800 [==============================] - 55s 69ms/step - loss: 0.5294 - accuracy: 0.9436 - val_loss: 0.5353 - val_accuracy: 0.9440\n",
      "Epoch 4/100\n",
      "799/800 [============================>.] - ETA: 0s - loss: 0.5278 - accuracy: 0.9470Restoring model weights from the end of the best epoch.\n",
      "800/800 [==============================] - 55s 69ms/step - loss: 0.5278 - accuracy: 0.9470 - val_loss: 0.5349 - val_accuracy: 0.9577\n",
      "Epoch 00004: early stopping\n",
      "99/99 [==============================] - 5s 51ms/step - loss: 0.5433 - accuracy: 0.9326\n",
      "Fold 7 of 10\n",
      "Epoch 1/100\n",
      "800/800 [==============================] - 55s 68ms/step - loss: 0.5440 - accuracy: 0.9095 - val_loss: 0.5464 - val_accuracy: 0.9347\n",
      "Epoch 2/100\n",
      "800/800 [==============================] - 55s 69ms/step - loss: 0.5336 - accuracy: 0.9346 - val_loss: 0.5379 - val_accuracy: 0.9369\n",
      "Epoch 3/100\n",
      "800/800 [==============================] - 55s 68ms/step - loss: 0.5294 - accuracy: 0.9447 - val_loss: 0.5355 - val_accuracy: 0.9465\n",
      "Epoch 4/100\n",
      "800/800 [==============================] - 55s 68ms/step - loss: 0.5288 - accuracy: 0.9458 - val_loss: 0.5359 - val_accuracy: 0.9536\n",
      "Epoch 5/100\n",
      "800/800 [==============================] - 55s 68ms/step - loss: 0.5277 - accuracy: 0.9479 - val_loss: 0.5443 - val_accuracy: 0.9441\n",
      "Epoch 6/100\n",
      "800/800 [==============================] - ETA: 0s - loss: 0.5273 - accuracy: 0.9484Restoring model weights from the end of the best epoch.\n",
      "800/800 [==============================] - 54s 68ms/step - loss: 0.5273 - accuracy: 0.9484 - val_loss: 0.5396 - val_accuracy: 0.9294\n",
      "Epoch 00006: early stopping\n",
      "99/99 [==============================] - 5s 51ms/step - loss: 0.5324 - accuracy: 0.9523\n",
      "Fold 8 of 10\n",
      "Epoch 1/100\n",
      "800/800 [==============================] - 59s 74ms/step - loss: 0.5470 - accuracy: 0.9045 - val_loss: 0.5408 - val_accuracy: 0.9350\n",
      "Epoch 2/100\n",
      "800/800 [==============================] - 58s 72ms/step - loss: 0.5375 - accuracy: 0.9261 - val_loss: 0.5379 - val_accuracy: 0.9470\n",
      "Epoch 3/100\n",
      "800/800 [==============================] - 60s 74ms/step - loss: 0.5332 - accuracy: 0.9358 - val_loss: 0.5348 - val_accuracy: 0.9550\n",
      "Epoch 4/100\n",
      "800/800 [==============================] - ETA: 0s - loss: 0.5312 - accuracy: 0.9406Restoring model weights from the end of the best epoch.\n",
      "800/800 [==============================] - 57s 72ms/step - loss: 0.5312 - accuracy: 0.9406 - val_loss: 0.5351 - val_accuracy: 0.9487\n",
      "Epoch 00004: early stopping\n",
      "99/99 [==============================] - 5s 54ms/step - loss: 0.5435 - accuracy: 0.9307\n",
      "Fold 9 of 10\n",
      "Epoch 1/100\n",
      "800/800 [==============================] - 56s 70ms/step - loss: 0.5463 - accuracy: 0.9061 - val_loss: 0.5407 - val_accuracy: 0.9324\n",
      "Epoch 2/100\n",
      "800/800 [==============================] - 55s 69ms/step - loss: 0.5345 - accuracy: 0.9331 - val_loss: 0.5360 - val_accuracy: 0.9488\n",
      "Epoch 3/100\n",
      "800/800 [==============================] - 55s 69ms/step - loss: 0.5290 - accuracy: 0.9449 - val_loss: 0.5346 - val_accuracy: 0.9485\n",
      "Epoch 4/100\n",
      "800/800 [==============================] - ETA: 0s - loss: 0.5283 - accuracy: 0.9462Restoring model weights from the end of the best epoch.\n",
      "800/800 [==============================] - 55s 69ms/step - loss: 0.5283 - accuracy: 0.9462 - val_loss: 0.5316 - val_accuracy: 0.9550\n",
      "Epoch 00004: early stopping\n",
      "99/99 [==============================] - 5s 51ms/step - loss: 0.5416 - accuracy: 0.9308\n",
      "Fold 10 of 10\n",
      "Epoch 1/100\n",
      "800/800 [==============================] - 58s 73ms/step - loss: 0.5464 - accuracy: 0.9052 - val_loss: 0.5581 - val_accuracy: 0.8783\n",
      "Epoch 2/100\n",
      "800/800 [==============================] - 57s 71ms/step - loss: 0.5320 - accuracy: 0.9386 - val_loss: 0.5427 - val_accuracy: 0.9217\n",
      "Epoch 3/100\n",
      "800/800 [==============================] - 57s 71ms/step - loss: 0.5298 - accuracy: 0.9427 - val_loss: 0.5327 - val_accuracy: 0.9586\n",
      "Epoch 4/100\n",
      "800/800 [==============================] - 57s 71ms/step - loss: 0.5270 - accuracy: 0.9490 - val_loss: 0.5343 - val_accuracy: 0.9477\n",
      "Epoch 5/100\n",
      "799/800 [============================>.] - ETA: 0s - loss: 0.5259 - accuracy: 0.9513Restoring model weights from the end of the best epoch.\n",
      "800/800 [==============================] - 57s 71ms/step - loss: 0.5259 - accuracy: 0.9514 - val_loss: 0.5341 - val_accuracy: 0.9546\n",
      "Epoch 00005: early stopping\n",
      "99/99 [==============================] - 5s 53ms/step - loss: 0.5411 - accuracy: 0.9255\n"
     ]
    }
   ],
   "source": [
    "k_results=pd.DataFrame(columns = ['Fold', 'Loss', 'Accuracy'])\n",
    "\n",
    "for i, k in enumerate(kFCV_sets):\n",
    "    print(\"Fold\", i+1, \"of\", len(kFCV_sets))\n",
    "\n",
    "    train_generator, test_generator, val_generator = k\n",
    "\n",
    "    #Build Model\n",
    "    model = utils.makeModel(inputShape=(150, 150, 3), modelName=modelName)\n",
    "    opt = tf.optimizers.Adam()\n",
    "    model.compile(\n",
    "        optimizer = opt,\n",
    "        loss = keras.losses.BinaryCrossentropy(from_logits = True),\n",
    "        metrics = [\"accuracy\"]\n",
    "    )\n",
    "\n",
    "    #Fit data  \n",
    "    model.fit(\n",
    "        train_generator,\n",
    "        validation_data=val_generator,\n",
    "        callbacks = utils.callbacks,\n",
    "        epochs = 100,\n",
    "        class_weight = weights_dict,\n",
    "        max_queue_size = 10,\n",
    "        workers = os.cpu_count(),\n",
    "    )\n",
    "\n",
    "    #Test accuracy\n",
    "    results = model.evaluate(\n",
    "        test_generator,\n",
    "        max_queue_size = 10,\n",
    "        workers = os.cpu_count(),\n",
    "    )\n",
    "\n",
    "    k_results = k_results.append({'Fold':i+1, 'Loss':results[0], 'Accuracy':results[1]}, ignore_index=True)\n",
    "    \n",
    "    if i == 0:\n",
    "        # Write the summary to a file\n",
    "        with open(f'Results/{modelName}Summary.txt', 'w') as f:\n",
    "            with redirect_stdout(f):\n",
    "                print(model.summary())\n",
    "        #Save the model\n",
    "        model.save(f'Models/{modelName}')\n",
    "        \n",
    "    keras.backend.clear_session() \n",
    "\n",
    "k_results = k_results.append({'Fold':\"Avg\", 'Loss':np.average(k_results['Loss']), 'Accuracy':np.average(k_results['Accuracy'])}, ignore_index=True)"
   ]
  },
  {
   "cell_type": "code",
   "execution_count": 9,
   "metadata": {},
   "outputs": [],
   "source": [
    "if n_folds != 1:\n",
    "    k_results.to_csv(f'Results/k-fcv_{modelName}.csv')"
   ]
  }
 ],
 "metadata": {
  "kernelspec": {
   "display_name": "csc790",
   "language": "python",
   "name": "csc790"
  },
  "language_info": {
   "codemirror_mode": {
    "name": "ipython",
    "version": 3
   },
   "file_extension": ".py",
   "mimetype": "text/x-python",
   "name": "python",
   "nbconvert_exporter": "python",
   "pygments_lexer": "ipython3",
   "version": "3.8.5"
  }
 },
 "nbformat": 4,
 "nbformat_minor": 4
}
